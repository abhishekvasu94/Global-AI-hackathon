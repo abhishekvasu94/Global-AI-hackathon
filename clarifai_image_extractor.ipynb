{
 "cells": [
  {
   "cell_type": "code",
   "execution_count": 2,
   "metadata": {
    "collapsed": false
   },
   "outputs": [],
   "source": [
    "from clarifai import rest\n",
    "from clarifai.rest import ClarifaiApp\n",
    "# $ export CLARIFAI_APP_ID=${Client Id}\n",
    "# $ export CLARIFAI_APP_SECRET=${Client Secret}\n",
    "# $ clarifai config\n"
   ]
  },
  {
   "cell_type": "code",
   "execution_count": 3,
   "metadata": {
    "collapsed": true
   },
   "outputs": [],
   "source": [
    "import glob"
   ]
  },
  {
   "cell_type": "markdown",
   "metadata": {},
   "source": [
    "#my first app\n",
    "app = ClarifaiApp(\"gYHtjzzzzzzzzzzzzzAUNpdPzhrpwrKL\", \"7YGGa5TnzzzzzzzzzzzmFr4\")\n",
    "#get the general model\n",
    "model = app.models.get(\"general-v1.3\")"
   ]
  },
  {
   "cell_type": "code",
   "execution_count": 4,
   "metadata": {
    "collapsed": true
   },
   "outputs": [],
   "source": [
    "#fake images MODEL import\n",
    "app = ClarifaiApp(\"Rl9u79K7PpTHeWLYlU0P4sltgzGchRS41ktHlmhV\", \"ApKNR39--sOwMuX-ouyXwiu6G88rZRJiBV9KelI9\")"
   ]
  },
  {
   "cell_type": "markdown",
   "metadata": {},
   "source": [
    "# training data feed"
   ]
  },
  {
   "cell_type": "code",
   "execution_count": null,
   "metadata": {
    "collapsed": false,
    "scrolled": true
   },
   "outputs": [],
   "source": [
    "#fake training\n",
    "fake_path = \"C:/Users/Roshan Sridhar/Downloads/Global AI Hackathon/images/fake photoshopbattles_redditdataextractor/*\"\n",
    "count = 0\n",
    "for f in glob.glob(fake_path):\n",
    "    count += 1\n",
    "    try:\n",
    "        app.inputs.create_image_from_filename(f, concepts=['fake'])\n",
    "    except:\n",
    "        continue\n",
    "    print(count)\n",
    "    if count==800:\n",
    "        break"
   ]
  },
  {
   "cell_type": "code",
   "execution_count": null,
   "metadata": {
    "collapsed": true
   },
   "outputs": [],
   "source": [
    "#real training\n",
    "fake_path = \"C:/Users/Roshan Sridhar/Downloads/Global AI Hackathon/images/REAL photoshopbattles_redditdataextractor/*\"\n",
    "count = 0\n",
    "for f in glob.glob(fake_path):\n",
    "    count += 1\n",
    "    try:\n",
    "        app.inputs.create_image_from_filename(f, concepts=['real'])\n",
    "    except:\n",
    "        continue\n",
    "    print(count)\n",
    "    if count==800:\n",
    "        break"
   ]
  },
  {
   "cell_type": "markdown",
   "metadata": {},
   "source": [
    "# testing  with mixed images to verify performance"
   ]
  },
  {
   "cell_type": "code",
   "execution_count": 4,
   "metadata": {
    "collapsed": false
   },
   "outputs": [],
   "source": [
    "# testing  with mixed images to verify performance\n",
    "from clarifai.rest import Image as ClImage\n",
    "import pandas as pd\n",
    "mostly_test = \"C:/Users/Roshan Sridhar/Downloads/Global AI Hackathon/images/mostly REAL rips from redditripv15/*\"\n",
    "count = 0\n",
    "model=app.models.get('fake_images')\n",
    "clarifai_scores = pd.DataFrame(columns=['url','score'])"
   ]
  },
  {
   "cell_type": "markdown",
   "metadata": {},
   "source": [
    "# testing - 2. Unseen real test set"
   ]
  },
  {
   "cell_type": "code",
   "execution_count": 5,
   "metadata": {
    "collapsed": true
   },
   "outputs": [],
   "source": [
    "# testing - 2. Unseen real test set\n",
    "from clarifai.rest import Image as ClImage\n",
    "import pandas as pd\n",
    "real_test = \"C:/Users/Roshan Sridhar/Downloads/photoshopbattles REAL TEST/*\"\n",
    "count = 0\n",
    "model=app.models.get('fake_images')\n",
    "clarifai_scores = pd.DataFrame(columns=['url','score','predicted'])"
   ]
  },
  {
   "cell_type": "code",
   "execution_count": 6,
   "metadata": {
    "collapsed": false
   },
   "outputs": [
    {
     "data": {
      "text/html": [
       "<div>\n",
       "<table border=\"1\" class=\"dataframe\">\n",
       "  <thead>\n",
       "    <tr style=\"text-align: right;\">\n",
       "      <th></th>\n",
       "      <th>url</th>\n",
       "      <th>score</th>\n",
       "      <th>predicted</th>\n",
       "    </tr>\n",
       "  </thead>\n",
       "  <tbody>\n",
       "  </tbody>\n",
       "</table>\n",
       "</div>"
      ],
      "text/plain": [
       "Empty DataFrame\n",
       "Columns: [url, score, predicted]\n",
       "Index: []"
      ]
     },
     "execution_count": 6,
     "metadata": {},
     "output_type": "execute_result"
    }
   ],
   "source": [
    "clarifai_scores"
   ]
  },
  {
   "cell_type": "code",
   "execution_count": 7,
   "metadata": {
    "collapsed": false
   },
   "outputs": [
    {
     "name": "stdout",
     "output_type": "stream",
     "text": [
      "100\n",
      "200\n"
     ]
    }
   ],
   "source": [
    "count = 0\n",
    "for f in glob.glob(real_test):\n",
    "    count += 1\n",
    "    try:\n",
    "        image = app.inputs.create_image_from_filename(f)\n",
    "        url=model.predict([image])['outputs'][0]['input']['data']['image']['url']\n",
    "#         print(str(url))\n",
    "        predicted=model.predict([image])['outputs'][0]['data']['concepts'][0]['value']\n",
    "#         print(score)\n",
    "        clarifai_scores = clarifai_scores.append({\"url\":str(url),\"score\":1,\"predicted\":predicted},ignore_index=True)\n",
    "#         print(clarifai_scores)\n",
    "    except:\n",
    "        continue\n",
    "    if count%100==0:\n",
    "        print(count)\n",
    "    if count==800:\n",
    "        break\n",
    "    "
   ]
  },
  {
   "cell_type": "code",
   "execution_count": null,
   "metadata": {
    "collapsed": false
   },
   "outputs": [],
   "source": [
    "model.predict([app.inputs.create_image_from_filename(f)])['outputs'][0]['input']['data']['image']['url']"
   ]
  },
  {
   "cell_type": "code",
   "execution_count": null,
   "metadata": {
    "collapsed": false
   },
   "outputs": [],
   "source": [
    "model.predict([app.inputs.create_image_from_filename(f)])['outputs'][0]['data']['concepts'][0]['value']"
   ]
  },
  {
   "cell_type": "code",
   "execution_count": null,
   "metadata": {
    "collapsed": false
   },
   "outputs": [],
   "source": [
    "clarifay_scores"
   ]
  },
  {
   "cell_type": "markdown",
   "metadata": {},
   "source": [
    "# testing - 3 UNSEEN FAKE TEST SET"
   ]
  },
  {
   "cell_type": "code",
   "execution_count": 8,
   "metadata": {
    "collapsed": false
   },
   "outputs": [
    {
     "name": "stdout",
     "output_type": "stream",
     "text": [
      "100\n",
      "200\n",
      "300\n",
      "400\n",
      "500\n"
     ]
    }
   ],
   "source": [
    "# testing - 3 UNSEEN FAKE TEST SET\n",
    "clarifai_fake_scores = pd.DataFrame(columns=['url','score','predicted'])\n",
    "fake_test = \"C:/Users/Roshan Sridhar/Downloads/photoshopbattles FAKE TEST/*\"\n",
    "count = 0\n",
    "for f in glob.glob(fake_test):\n",
    "    count += 1\n",
    "    try:\n",
    "        image = app.inputs.create_image_from_filename(f)\n",
    "        url=model.predict([image])['outputs'][0]['input']['data']['image']['url']\n",
    "#         print(str(url))\n",
    "        predicted=model.predict([image])['outputs'][0]['data']['concepts'][0]['value']\n",
    "#         print(score)\n",
    "        clarifai_fake_scores = clarifai_fake_scores.append({\"url\":str(url),\"score\":1,\"predicted\":predicted},ignore_index=True)\n",
    "#         print(clarifai_scores)\n",
    "    except:\n",
    "        continue\n",
    "    if count%100==0:\n",
    "        print(count)\n",
    "    if count==800:\n",
    "        break\n",
    "    "
   ]
  },
  {
   "cell_type": "code",
   "execution_count": 26,
   "metadata": {
    "collapsed": false
   },
   "outputs": [
    {
     "data": {
      "text/plain": [
       "{'outputs': [{'created_at': '2017-06-25T14:58:13.998021875Z',\n",
       "   'data': {'concepts': [{'app_id': 'ea3fdf9046b0486093b2c339187706a8',\n",
       "      'id': 'fake',\n",
       "      'name': 'fake',\n",
       "      'value': 0.95489734},\n",
       "     {'app_id': 'ea3fdf9046b0486093b2c339187706a8',\n",
       "      'id': 'real',\n",
       "      'name': 'real',\n",
       "      'value': 0.045102607}]},\n",
       "   'id': 'dc0b3419734a49109dc99e55fa060953',\n",
       "   'input': {'data': {'image': {'url': 'https://s3.amazonaws.com/clarifai-api/img2/prod/small/ea3fdf9046b0486093b2c339187706a8/b8e17fa117a3420b99da100a1e3ed27a.png'}},\n",
       "    'id': 'd60fd14e0fe24b4eb74a0e0ce265b3ae'},\n",
       "   'model': {'app_id': 'ea3fdf9046b0486093b2c339187706a8',\n",
       "    'created_at': '2017-06-25T01:20:55.120695Z',\n",
       "    'id': 'fake_images',\n",
       "    'model_version': {'created_at': '2017-06-25T09:08:56.755819Z',\n",
       "     'id': 'a87fc2d8677b4fc7a9e53b8a468e45d3',\n",
       "     'status': {'code': 21100, 'description': 'Model trained successfully'}},\n",
       "    'name': 'fake_images',\n",
       "    'output_info': {'message': 'Show output_info with: GET /models/{model_id}/output_info',\n",
       "     'output_config': {'closed_environment': True,\n",
       "      'concepts_mutually_exclusive': True},\n",
       "     'type': 'concept',\n",
       "     'type_ext': 'concept'}},\n",
       "   'status': {'code': 10000, 'description': 'Ok'}}],\n",
       " 'status': {'code': 10000, 'description': 'Ok'}}"
      ]
     },
     "execution_count": 26,
     "metadata": {},
     "output_type": "execute_result"
    }
   ],
   "source": [
    "model.predict([image])"
   ]
  },
  {
   "cell_type": "code",
   "execution_count": 10,
   "metadata": {
    "collapsed": false
   },
   "outputs": [],
   "source": [
    "clarifai_scores.to_csv('real_scores.csv')"
   ]
  },
  {
   "cell_type": "code",
   "execution_count": 11,
   "metadata": {
    "collapsed": true
   },
   "outputs": [],
   "source": [
    "clarifai_fake_scores.to_csv('fake_scores.csv')"
   ]
  },
  {
   "cell_type": "code",
   "execution_count": 21,
   "metadata": {
    "collapsed": false
   },
   "outputs": [],
   "source": [
    "clarifai_fake_scores['score'] = pd.Series(0, index=clarifai_fake_scores.index)"
   ]
  },
  {
   "cell_type": "code",
   "execution_count": 25,
   "metadata": {
    "collapsed": false
   },
   "outputs": [
    {
     "data": {
      "text/html": [
       "<div>\n",
       "<table border=\"1\" class=\"dataframe\">\n",
       "  <thead>\n",
       "    <tr style=\"text-align: right;\">\n",
       "      <th></th>\n",
       "      <th>url</th>\n",
       "      <th>score</th>\n",
       "      <th>predicted</th>\n",
       "    </tr>\n",
       "  </thead>\n",
       "  <tbody>\n",
       "    <tr>\n",
       "      <th>0</th>\n",
       "      <td>https://s3.amazonaws.com/clarifai-api/img2/pro...</td>\n",
       "      <td>0</td>\n",
       "      <td>0.703028</td>\n",
       "    </tr>\n",
       "    <tr>\n",
       "      <th>1</th>\n",
       "      <td>https://s3.amazonaws.com/clarifai-api/img2/pro...</td>\n",
       "      <td>0</td>\n",
       "      <td>0.730112</td>\n",
       "    </tr>\n",
       "    <tr>\n",
       "      <th>2</th>\n",
       "      <td>https://s3.amazonaws.com/clarifai-api/img2/pro...</td>\n",
       "      <td>0</td>\n",
       "      <td>0.662385</td>\n",
       "    </tr>\n",
       "    <tr>\n",
       "      <th>3</th>\n",
       "      <td>https://s3.amazonaws.com/clarifai-api/img2/pro...</td>\n",
       "      <td>0</td>\n",
       "      <td>0.643354</td>\n",
       "    </tr>\n",
       "    <tr>\n",
       "      <th>4</th>\n",
       "      <td>https://s3.amazonaws.com/clarifai-api/img2/pro...</td>\n",
       "      <td>0</td>\n",
       "      <td>0.940111</td>\n",
       "    </tr>\n",
       "    <tr>\n",
       "      <th>5</th>\n",
       "      <td>https://s3.amazonaws.com/clarifai-api/img2/pro...</td>\n",
       "      <td>0</td>\n",
       "      <td>0.618195</td>\n",
       "    </tr>\n",
       "    <tr>\n",
       "      <th>6</th>\n",
       "      <td>https://s3.amazonaws.com/clarifai-api/img2/pro...</td>\n",
       "      <td>0</td>\n",
       "      <td>0.548924</td>\n",
       "    </tr>\n",
       "    <tr>\n",
       "      <th>7</th>\n",
       "      <td>https://s3.amazonaws.com/clarifai-api/img2/pro...</td>\n",
       "      <td>0</td>\n",
       "      <td>0.960770</td>\n",
       "    </tr>\n",
       "    <tr>\n",
       "      <th>8</th>\n",
       "      <td>https://s3.amazonaws.com/clarifai-api/img2/pro...</td>\n",
       "      <td>0</td>\n",
       "      <td>0.529002</td>\n",
       "    </tr>\n",
       "    <tr>\n",
       "      <th>9</th>\n",
       "      <td>https://s3.amazonaws.com/clarifai-api/img2/pro...</td>\n",
       "      <td>0</td>\n",
       "      <td>0.601030</td>\n",
       "    </tr>\n",
       "    <tr>\n",
       "      <th>10</th>\n",
       "      <td>https://s3.amazonaws.com/clarifai-api/img2/pro...</td>\n",
       "      <td>0</td>\n",
       "      <td>0.577976</td>\n",
       "    </tr>\n",
       "    <tr>\n",
       "      <th>11</th>\n",
       "      <td>https://s3.amazonaws.com/clarifai-api/img2/pro...</td>\n",
       "      <td>0</td>\n",
       "      <td>0.611955</td>\n",
       "    </tr>\n",
       "    <tr>\n",
       "      <th>12</th>\n",
       "      <td>https://s3.amazonaws.com/clarifai-api/img2/pro...</td>\n",
       "      <td>0</td>\n",
       "      <td>0.672754</td>\n",
       "    </tr>\n",
       "    <tr>\n",
       "      <th>13</th>\n",
       "      <td>https://s3.amazonaws.com/clarifai-api/img2/pro...</td>\n",
       "      <td>0</td>\n",
       "      <td>0.917697</td>\n",
       "    </tr>\n",
       "    <tr>\n",
       "      <th>14</th>\n",
       "      <td>https://s3.amazonaws.com/clarifai-api/img2/pro...</td>\n",
       "      <td>0</td>\n",
       "      <td>0.540190</td>\n",
       "    </tr>\n",
       "    <tr>\n",
       "      <th>15</th>\n",
       "      <td>https://s3.amazonaws.com/clarifai-api/img2/pro...</td>\n",
       "      <td>0</td>\n",
       "      <td>0.995175</td>\n",
       "    </tr>\n",
       "    <tr>\n",
       "      <th>16</th>\n",
       "      <td>https://s3.amazonaws.com/clarifai-api/img2/pro...</td>\n",
       "      <td>0</td>\n",
       "      <td>0.853851</td>\n",
       "    </tr>\n",
       "    <tr>\n",
       "      <th>17</th>\n",
       "      <td>https://s3.amazonaws.com/clarifai-api/img2/pro...</td>\n",
       "      <td>0</td>\n",
       "      <td>0.544575</td>\n",
       "    </tr>\n",
       "    <tr>\n",
       "      <th>18</th>\n",
       "      <td>https://s3.amazonaws.com/clarifai-api/img2/pro...</td>\n",
       "      <td>0</td>\n",
       "      <td>0.663917</td>\n",
       "    </tr>\n",
       "    <tr>\n",
       "      <th>19</th>\n",
       "      <td>https://s3.amazonaws.com/clarifai-api/img2/pro...</td>\n",
       "      <td>0</td>\n",
       "      <td>0.891251</td>\n",
       "    </tr>\n",
       "    <tr>\n",
       "      <th>20</th>\n",
       "      <td>https://s3.amazonaws.com/clarifai-api/img2/pro...</td>\n",
       "      <td>0</td>\n",
       "      <td>0.850449</td>\n",
       "    </tr>\n",
       "    <tr>\n",
       "      <th>21</th>\n",
       "      <td>https://s3.amazonaws.com/clarifai-api/img2/pro...</td>\n",
       "      <td>0</td>\n",
       "      <td>0.538293</td>\n",
       "    </tr>\n",
       "    <tr>\n",
       "      <th>22</th>\n",
       "      <td>https://s3.amazonaws.com/clarifai-api/img2/pro...</td>\n",
       "      <td>0</td>\n",
       "      <td>0.908003</td>\n",
       "    </tr>\n",
       "    <tr>\n",
       "      <th>23</th>\n",
       "      <td>https://s3.amazonaws.com/clarifai-api/img2/pro...</td>\n",
       "      <td>0</td>\n",
       "      <td>0.708243</td>\n",
       "    </tr>\n",
       "    <tr>\n",
       "      <th>24</th>\n",
       "      <td>https://s3.amazonaws.com/clarifai-api/img2/pro...</td>\n",
       "      <td>0</td>\n",
       "      <td>0.992843</td>\n",
       "    </tr>\n",
       "    <tr>\n",
       "      <th>25</th>\n",
       "      <td>https://s3.amazonaws.com/clarifai-api/img2/pro...</td>\n",
       "      <td>0</td>\n",
       "      <td>0.999132</td>\n",
       "    </tr>\n",
       "    <tr>\n",
       "      <th>26</th>\n",
       "      <td>https://s3.amazonaws.com/clarifai-api/img2/pro...</td>\n",
       "      <td>0</td>\n",
       "      <td>0.766630</td>\n",
       "    </tr>\n",
       "    <tr>\n",
       "      <th>27</th>\n",
       "      <td>https://s3.amazonaws.com/clarifai-api/img2/pro...</td>\n",
       "      <td>0</td>\n",
       "      <td>0.591812</td>\n",
       "    </tr>\n",
       "    <tr>\n",
       "      <th>28</th>\n",
       "      <td>https://s3.amazonaws.com/clarifai-api/img2/pro...</td>\n",
       "      <td>0</td>\n",
       "      <td>0.615828</td>\n",
       "    </tr>\n",
       "    <tr>\n",
       "      <th>29</th>\n",
       "      <td>https://s3.amazonaws.com/clarifai-api/img2/pro...</td>\n",
       "      <td>0</td>\n",
       "      <td>0.516688</td>\n",
       "    </tr>\n",
       "    <tr>\n",
       "      <th>...</th>\n",
       "      <td>...</td>\n",
       "      <td>...</td>\n",
       "      <td>...</td>\n",
       "    </tr>\n",
       "    <tr>\n",
       "      <th>521</th>\n",
       "      <td>https://s3.amazonaws.com/clarifai-api/img2/pro...</td>\n",
       "      <td>0</td>\n",
       "      <td>0.774246</td>\n",
       "    </tr>\n",
       "    <tr>\n",
       "      <th>522</th>\n",
       "      <td>https://s3.amazonaws.com/clarifai-api/img2/pro...</td>\n",
       "      <td>0</td>\n",
       "      <td>0.500016</td>\n",
       "    </tr>\n",
       "    <tr>\n",
       "      <th>523</th>\n",
       "      <td>https://s3.amazonaws.com/clarifai-api/img2/pro...</td>\n",
       "      <td>0</td>\n",
       "      <td>0.876167</td>\n",
       "    </tr>\n",
       "    <tr>\n",
       "      <th>524</th>\n",
       "      <td>https://s3.amazonaws.com/clarifai-api/img2/pro...</td>\n",
       "      <td>0</td>\n",
       "      <td>0.816046</td>\n",
       "    </tr>\n",
       "    <tr>\n",
       "      <th>525</th>\n",
       "      <td>https://s3.amazonaws.com/clarifai-api/img2/pro...</td>\n",
       "      <td>0</td>\n",
       "      <td>0.533065</td>\n",
       "    </tr>\n",
       "    <tr>\n",
       "      <th>526</th>\n",
       "      <td>https://s3.amazonaws.com/clarifai-api/img2/pro...</td>\n",
       "      <td>0</td>\n",
       "      <td>0.542492</td>\n",
       "    </tr>\n",
       "    <tr>\n",
       "      <th>527</th>\n",
       "      <td>https://s3.amazonaws.com/clarifai-api/img2/pro...</td>\n",
       "      <td>0</td>\n",
       "      <td>0.985312</td>\n",
       "    </tr>\n",
       "    <tr>\n",
       "      <th>528</th>\n",
       "      <td>https://s3.amazonaws.com/clarifai-api/img2/pro...</td>\n",
       "      <td>0</td>\n",
       "      <td>0.941431</td>\n",
       "    </tr>\n",
       "    <tr>\n",
       "      <th>529</th>\n",
       "      <td>https://s3.amazonaws.com/clarifai-api/img2/pro...</td>\n",
       "      <td>0</td>\n",
       "      <td>0.924033</td>\n",
       "    </tr>\n",
       "    <tr>\n",
       "      <th>530</th>\n",
       "      <td>https://s3.amazonaws.com/clarifai-api/img2/pro...</td>\n",
       "      <td>0</td>\n",
       "      <td>0.862448</td>\n",
       "    </tr>\n",
       "    <tr>\n",
       "      <th>531</th>\n",
       "      <td>https://s3.amazonaws.com/clarifai-api/img2/pro...</td>\n",
       "      <td>0</td>\n",
       "      <td>0.581006</td>\n",
       "    </tr>\n",
       "    <tr>\n",
       "      <th>532</th>\n",
       "      <td>https://s3.amazonaws.com/clarifai-api/img2/pro...</td>\n",
       "      <td>0</td>\n",
       "      <td>0.530169</td>\n",
       "    </tr>\n",
       "    <tr>\n",
       "      <th>533</th>\n",
       "      <td>https://s3.amazonaws.com/clarifai-api/img2/pro...</td>\n",
       "      <td>0</td>\n",
       "      <td>0.581006</td>\n",
       "    </tr>\n",
       "    <tr>\n",
       "      <th>534</th>\n",
       "      <td>https://s3.amazonaws.com/clarifai-api/img2/pro...</td>\n",
       "      <td>0</td>\n",
       "      <td>0.842981</td>\n",
       "    </tr>\n",
       "    <tr>\n",
       "      <th>535</th>\n",
       "      <td>https://s3.amazonaws.com/clarifai-api/img2/pro...</td>\n",
       "      <td>0</td>\n",
       "      <td>0.623391</td>\n",
       "    </tr>\n",
       "    <tr>\n",
       "      <th>536</th>\n",
       "      <td>https://s3.amazonaws.com/clarifai-api/img2/pro...</td>\n",
       "      <td>0</td>\n",
       "      <td>0.617824</td>\n",
       "    </tr>\n",
       "    <tr>\n",
       "      <th>537</th>\n",
       "      <td>https://s3.amazonaws.com/clarifai-api/img2/pro...</td>\n",
       "      <td>0</td>\n",
       "      <td>0.638045</td>\n",
       "    </tr>\n",
       "    <tr>\n",
       "      <th>538</th>\n",
       "      <td>https://s3.amazonaws.com/clarifai-api/img2/pro...</td>\n",
       "      <td>0</td>\n",
       "      <td>0.630341</td>\n",
       "    </tr>\n",
       "    <tr>\n",
       "      <th>539</th>\n",
       "      <td>https://s3.amazonaws.com/clarifai-api/img2/pro...</td>\n",
       "      <td>0</td>\n",
       "      <td>0.767726</td>\n",
       "    </tr>\n",
       "    <tr>\n",
       "      <th>540</th>\n",
       "      <td>https://s3.amazonaws.com/clarifai-api/img2/pro...</td>\n",
       "      <td>0</td>\n",
       "      <td>0.628360</td>\n",
       "    </tr>\n",
       "    <tr>\n",
       "      <th>541</th>\n",
       "      <td>https://s3.amazonaws.com/clarifai-api/img2/pro...</td>\n",
       "      <td>0</td>\n",
       "      <td>0.941798</td>\n",
       "    </tr>\n",
       "    <tr>\n",
       "      <th>542</th>\n",
       "      <td>https://s3.amazonaws.com/clarifai-api/img2/pro...</td>\n",
       "      <td>0</td>\n",
       "      <td>0.697973</td>\n",
       "    </tr>\n",
       "    <tr>\n",
       "      <th>543</th>\n",
       "      <td>https://s3.amazonaws.com/clarifai-api/img2/pro...</td>\n",
       "      <td>0</td>\n",
       "      <td>0.878503</td>\n",
       "    </tr>\n",
       "    <tr>\n",
       "      <th>544</th>\n",
       "      <td>https://s3.amazonaws.com/clarifai-api/img2/pro...</td>\n",
       "      <td>0</td>\n",
       "      <td>0.932998</td>\n",
       "    </tr>\n",
       "    <tr>\n",
       "      <th>545</th>\n",
       "      <td>https://s3.amazonaws.com/clarifai-api/img2/pro...</td>\n",
       "      <td>0</td>\n",
       "      <td>0.834497</td>\n",
       "    </tr>\n",
       "    <tr>\n",
       "      <th>546</th>\n",
       "      <td>https://s3.amazonaws.com/clarifai-api/img2/pro...</td>\n",
       "      <td>0</td>\n",
       "      <td>0.570114</td>\n",
       "    </tr>\n",
       "    <tr>\n",
       "      <th>547</th>\n",
       "      <td>https://s3.amazonaws.com/clarifai-api/img2/pro...</td>\n",
       "      <td>0</td>\n",
       "      <td>0.996554</td>\n",
       "    </tr>\n",
       "    <tr>\n",
       "      <th>548</th>\n",
       "      <td>https://s3.amazonaws.com/clarifai-api/img2/pro...</td>\n",
       "      <td>0</td>\n",
       "      <td>0.902526</td>\n",
       "    </tr>\n",
       "    <tr>\n",
       "      <th>549</th>\n",
       "      <td>https://s3.amazonaws.com/clarifai-api/img2/pro...</td>\n",
       "      <td>0</td>\n",
       "      <td>0.618785</td>\n",
       "    </tr>\n",
       "    <tr>\n",
       "      <th>550</th>\n",
       "      <td>https://s3.amazonaws.com/clarifai-api/img2/pro...</td>\n",
       "      <td>0</td>\n",
       "      <td>0.954897</td>\n",
       "    </tr>\n",
       "  </tbody>\n",
       "</table>\n",
       "<p>551 rows × 3 columns</p>\n",
       "</div>"
      ],
      "text/plain": [
       "                                                   url  score  predicted\n",
       "0    https://s3.amazonaws.com/clarifai-api/img2/pro...      0   0.703028\n",
       "1    https://s3.amazonaws.com/clarifai-api/img2/pro...      0   0.730112\n",
       "2    https://s3.amazonaws.com/clarifai-api/img2/pro...      0   0.662385\n",
       "3    https://s3.amazonaws.com/clarifai-api/img2/pro...      0   0.643354\n",
       "4    https://s3.amazonaws.com/clarifai-api/img2/pro...      0   0.940111\n",
       "5    https://s3.amazonaws.com/clarifai-api/img2/pro...      0   0.618195\n",
       "6    https://s3.amazonaws.com/clarifai-api/img2/pro...      0   0.548924\n",
       "7    https://s3.amazonaws.com/clarifai-api/img2/pro...      0   0.960770\n",
       "8    https://s3.amazonaws.com/clarifai-api/img2/pro...      0   0.529002\n",
       "9    https://s3.amazonaws.com/clarifai-api/img2/pro...      0   0.601030\n",
       "10   https://s3.amazonaws.com/clarifai-api/img2/pro...      0   0.577976\n",
       "11   https://s3.amazonaws.com/clarifai-api/img2/pro...      0   0.611955\n",
       "12   https://s3.amazonaws.com/clarifai-api/img2/pro...      0   0.672754\n",
       "13   https://s3.amazonaws.com/clarifai-api/img2/pro...      0   0.917697\n",
       "14   https://s3.amazonaws.com/clarifai-api/img2/pro...      0   0.540190\n",
       "15   https://s3.amazonaws.com/clarifai-api/img2/pro...      0   0.995175\n",
       "16   https://s3.amazonaws.com/clarifai-api/img2/pro...      0   0.853851\n",
       "17   https://s3.amazonaws.com/clarifai-api/img2/pro...      0   0.544575\n",
       "18   https://s3.amazonaws.com/clarifai-api/img2/pro...      0   0.663917\n",
       "19   https://s3.amazonaws.com/clarifai-api/img2/pro...      0   0.891251\n",
       "20   https://s3.amazonaws.com/clarifai-api/img2/pro...      0   0.850449\n",
       "21   https://s3.amazonaws.com/clarifai-api/img2/pro...      0   0.538293\n",
       "22   https://s3.amazonaws.com/clarifai-api/img2/pro...      0   0.908003\n",
       "23   https://s3.amazonaws.com/clarifai-api/img2/pro...      0   0.708243\n",
       "24   https://s3.amazonaws.com/clarifai-api/img2/pro...      0   0.992843\n",
       "25   https://s3.amazonaws.com/clarifai-api/img2/pro...      0   0.999132\n",
       "26   https://s3.amazonaws.com/clarifai-api/img2/pro...      0   0.766630\n",
       "27   https://s3.amazonaws.com/clarifai-api/img2/pro...      0   0.591812\n",
       "28   https://s3.amazonaws.com/clarifai-api/img2/pro...      0   0.615828\n",
       "29   https://s3.amazonaws.com/clarifai-api/img2/pro...      0   0.516688\n",
       "..                                                 ...    ...        ...\n",
       "521  https://s3.amazonaws.com/clarifai-api/img2/pro...      0   0.774246\n",
       "522  https://s3.amazonaws.com/clarifai-api/img2/pro...      0   0.500016\n",
       "523  https://s3.amazonaws.com/clarifai-api/img2/pro...      0   0.876167\n",
       "524  https://s3.amazonaws.com/clarifai-api/img2/pro...      0   0.816046\n",
       "525  https://s3.amazonaws.com/clarifai-api/img2/pro...      0   0.533065\n",
       "526  https://s3.amazonaws.com/clarifai-api/img2/pro...      0   0.542492\n",
       "527  https://s3.amazonaws.com/clarifai-api/img2/pro...      0   0.985312\n",
       "528  https://s3.amazonaws.com/clarifai-api/img2/pro...      0   0.941431\n",
       "529  https://s3.amazonaws.com/clarifai-api/img2/pro...      0   0.924033\n",
       "530  https://s3.amazonaws.com/clarifai-api/img2/pro...      0   0.862448\n",
       "531  https://s3.amazonaws.com/clarifai-api/img2/pro...      0   0.581006\n",
       "532  https://s3.amazonaws.com/clarifai-api/img2/pro...      0   0.530169\n",
       "533  https://s3.amazonaws.com/clarifai-api/img2/pro...      0   0.581006\n",
       "534  https://s3.amazonaws.com/clarifai-api/img2/pro...      0   0.842981\n",
       "535  https://s3.amazonaws.com/clarifai-api/img2/pro...      0   0.623391\n",
       "536  https://s3.amazonaws.com/clarifai-api/img2/pro...      0   0.617824\n",
       "537  https://s3.amazonaws.com/clarifai-api/img2/pro...      0   0.638045\n",
       "538  https://s3.amazonaws.com/clarifai-api/img2/pro...      0   0.630341\n",
       "539  https://s3.amazonaws.com/clarifai-api/img2/pro...      0   0.767726\n",
       "540  https://s3.amazonaws.com/clarifai-api/img2/pro...      0   0.628360\n",
       "541  https://s3.amazonaws.com/clarifai-api/img2/pro...      0   0.941798\n",
       "542  https://s3.amazonaws.com/clarifai-api/img2/pro...      0   0.697973\n",
       "543  https://s3.amazonaws.com/clarifai-api/img2/pro...      0   0.878503\n",
       "544  https://s3.amazonaws.com/clarifai-api/img2/pro...      0   0.932998\n",
       "545  https://s3.amazonaws.com/clarifai-api/img2/pro...      0   0.834497\n",
       "546  https://s3.amazonaws.com/clarifai-api/img2/pro...      0   0.570114\n",
       "547  https://s3.amazonaws.com/clarifai-api/img2/pro...      0   0.996554\n",
       "548  https://s3.amazonaws.com/clarifai-api/img2/pro...      0   0.902526\n",
       "549  https://s3.amazonaws.com/clarifai-api/img2/pro...      0   0.618785\n",
       "550  https://s3.amazonaws.com/clarifai-api/img2/pro...      0   0.954897\n",
       "\n",
       "[551 rows x 3 columns]"
      ]
     },
     "execution_count": 25,
     "metadata": {},
     "output_type": "execute_result"
    }
   ],
   "source": [
    "clarifai_fake_scores[clarifai_fake_scores['predicted']>0.5]\n"
   ]
  },
  {
   "cell_type": "code",
   "execution_count": null,
   "metadata": {
    "collapsed": true
   },
   "outputs": [],
   "source": []
  }
 ],
 "metadata": {
  "kernelspec": {
   "display_name": "Python 3",
   "language": "python",
   "name": "python3"
  },
  "language_info": {
   "codemirror_mode": {
    "name": "ipython",
    "version": 3
   },
   "file_extension": ".py",
   "mimetype": "text/x-python",
   "name": "python",
   "nbconvert_exporter": "python",
   "pygments_lexer": "ipython3",
   "version": "3.5.2"
  }
 },
 "nbformat": 4,
 "nbformat_minor": 2
}
