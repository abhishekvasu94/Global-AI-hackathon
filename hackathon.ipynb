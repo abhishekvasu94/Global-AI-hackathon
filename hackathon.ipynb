{
 "cells": [
  {
   "cell_type": "markdown",
   "metadata": {},
   "source": [
    "This notebook extracts key phrases from the text data using Microsoft cognitive services. Then, it looks up the image urls using the Clarifai API. This is used to extract tags. Now, the key phrases extracted are compared with the image tags. This is then used to derive a metric for comparison between the two sets of tags, which is done using the NLTK library. The parameters are fed into an SVM classifier for classification"
   ]
  },
  {
   "cell_type": "code",
   "execution_count": 1,
   "metadata": {
    "collapsed": false
   },
   "outputs": [
    {
     "data": {
      "text/html": [
       "<div>\n",
       "<table border=\"1\" class=\"dataframe\">\n",
       "  <thead>\n",
       "    <tr style=\"text-align: right;\">\n",
       "      <th></th>\n",
       "      <th>uuid</th>\n",
       "      <th>ord_in_thread</th>\n",
       "      <th>author</th>\n",
       "      <th>published</th>\n",
       "      <th>title</th>\n",
       "      <th>text</th>\n",
       "      <th>language</th>\n",
       "      <th>crawled</th>\n",
       "      <th>site_url</th>\n",
       "      <th>country</th>\n",
       "      <th>domain_rank</th>\n",
       "      <th>thread_title</th>\n",
       "      <th>spam_score</th>\n",
       "      <th>main_img_url</th>\n",
       "      <th>replies_count</th>\n",
       "      <th>participants_count</th>\n",
       "      <th>likes</th>\n",
       "      <th>comments</th>\n",
       "      <th>shares</th>\n",
       "      <th>type</th>\n",
       "    </tr>\n",
       "  </thead>\n",
       "  <tbody>\n",
       "    <tr>\n",
       "      <th>0</th>\n",
       "      <td>6a175f46bcd24d39b3e962ad0f29936721db70db</td>\n",
       "      <td>0</td>\n",
       "      <td>Barracuda Brigade</td>\n",
       "      <td>2016-10-26T21:41:00.000+03:00</td>\n",
       "      <td>Muslims BUSTED: They Stole Millions In Gov’t B...</td>\n",
       "      <td>Print They should pay all the back all the mon...</td>\n",
       "      <td>english</td>\n",
       "      <td>2016-10-27T01:49:27.168+03:00</td>\n",
       "      <td>100percentfedup.com</td>\n",
       "      <td>US</td>\n",
       "      <td>25689.0</td>\n",
       "      <td>Muslims BUSTED: They Stole Millions In Gov’t B...</td>\n",
       "      <td>0.0</td>\n",
       "      <td>http://bb4sp.com/wp-content/uploads/2016/10/Fu...</td>\n",
       "      <td>0</td>\n",
       "      <td>1</td>\n",
       "      <td>0</td>\n",
       "      <td>0</td>\n",
       "      <td>0</td>\n",
       "      <td>bias</td>\n",
       "    </tr>\n",
       "    <tr>\n",
       "      <th>1</th>\n",
       "      <td>2bdc29d12605ef9cf3f09f9875040a7113be5d5b</td>\n",
       "      <td>0</td>\n",
       "      <td>reasoning with facts</td>\n",
       "      <td>2016-10-29T08:47:11.259+03:00</td>\n",
       "      <td>Re: Why Did Attorney General Loretta Lynch Ple...</td>\n",
       "      <td>Why Did Attorney General Loretta Lynch Plead T...</td>\n",
       "      <td>english</td>\n",
       "      <td>2016-10-29T08:47:11.259+03:00</td>\n",
       "      <td>100percentfedup.com</td>\n",
       "      <td>US</td>\n",
       "      <td>25689.0</td>\n",
       "      <td>Re: Why Did Attorney General Loretta Lynch Ple...</td>\n",
       "      <td>0.0</td>\n",
       "      <td>http://bb4sp.com/wp-content/uploads/2016/10/Fu...</td>\n",
       "      <td>0</td>\n",
       "      <td>1</td>\n",
       "      <td>0</td>\n",
       "      <td>0</td>\n",
       "      <td>0</td>\n",
       "      <td>bias</td>\n",
       "    </tr>\n",
       "  </tbody>\n",
       "</table>\n",
       "</div>"
      ],
      "text/plain": [
       "                                       uuid  ord_in_thread  \\\n",
       "0  6a175f46bcd24d39b3e962ad0f29936721db70db              0   \n",
       "1  2bdc29d12605ef9cf3f09f9875040a7113be5d5b              0   \n",
       "\n",
       "                 author                      published  \\\n",
       "0     Barracuda Brigade  2016-10-26T21:41:00.000+03:00   \n",
       "1  reasoning with facts  2016-10-29T08:47:11.259+03:00   \n",
       "\n",
       "                                               title  \\\n",
       "0  Muslims BUSTED: They Stole Millions In Gov’t B...   \n",
       "1  Re: Why Did Attorney General Loretta Lynch Ple...   \n",
       "\n",
       "                                                text language  \\\n",
       "0  Print They should pay all the back all the mon...  english   \n",
       "1  Why Did Attorney General Loretta Lynch Plead T...  english   \n",
       "\n",
       "                         crawled             site_url country  domain_rank  \\\n",
       "0  2016-10-27T01:49:27.168+03:00  100percentfedup.com      US      25689.0   \n",
       "1  2016-10-29T08:47:11.259+03:00  100percentfedup.com      US      25689.0   \n",
       "\n",
       "                                        thread_title  spam_score  \\\n",
       "0  Muslims BUSTED: They Stole Millions In Gov’t B...         0.0   \n",
       "1  Re: Why Did Attorney General Loretta Lynch Ple...         0.0   \n",
       "\n",
       "                                        main_img_url  replies_count  \\\n",
       "0  http://bb4sp.com/wp-content/uploads/2016/10/Fu...              0   \n",
       "1  http://bb4sp.com/wp-content/uploads/2016/10/Fu...              0   \n",
       "\n",
       "   participants_count  likes  comments  shares  type  \n",
       "0                   1      0         0       0  bias  \n",
       "1                   1      0         0       0  bias  "
      ]
     },
     "execution_count": 1,
     "metadata": {},
     "output_type": "execute_result"
    }
   ],
   "source": [
    "%matplotlib inline\n",
    "import pandas as pd\n",
    "import numpy as np\n",
    "from matplotlib import pyplot as plt\n",
    "\n",
    "f = pd.read_csv('fake.csv')\n",
    "f.head(2)\n",
    "# f[f.spam_score>0].count()\n",
    "# a = f.spam_score.unique()"
   ]
  },
  {
   "cell_type": "code",
   "execution_count": 2,
   "metadata": {
    "collapsed": false
   },
   "outputs": [
    {
     "name": "stdout",
     "output_type": "stream",
     "text": [
      "['no factual content' 'mostly true' 'mixture of true and false'\n",
      " 'mostly false']\n",
      "account_id        264\n",
      "post_id           264\n",
      "Category          264\n",
      "Page              264\n",
      "Post URL          264\n",
      "Date Published    264\n",
      "Post Type         264\n",
      "Rating            264\n",
      "Debate             40\n",
      "share_count       235\n",
      "reaction_count    264\n",
      "comment_count     264\n",
      "dtype: int64\n",
      "account_id        1669\n",
      "post_id           1669\n",
      "Category          1669\n",
      "Page              1669\n",
      "Post URL          1669\n",
      "Date Published    1669\n",
      "Post Type         1669\n",
      "Rating            1669\n",
      "Debate             236\n",
      "share_count       1633\n",
      "reaction_count    1667\n",
      "comment_count     1667\n",
      "dtype: int64\n",
      "account_id        245\n",
      "post_id           245\n",
      "Category          245\n",
      "Page              245\n",
      "Post URL          245\n",
      "Date Published    245\n",
      "Post Type         245\n",
      "Rating            245\n",
      "Debate             15\n",
      "share_count       241\n",
      "reaction_count    245\n",
      "comment_count     245\n",
      "dtype: int64\n",
      "account_id        104\n",
      "post_id           104\n",
      "Category          104\n",
      "Page              104\n",
      "Post URL          104\n",
      "Date Published    104\n",
      "Post Type         104\n",
      "Rating            104\n",
      "Debate              7\n",
      "share_count       103\n",
      "reaction_count    104\n",
      "comment_count     104\n",
      "dtype: int64\n"
     ]
    }
   ],
   "source": [
    "g = pd.read_csv('facebook-fact-check.csv')\n",
    "g.head(2)\n",
    "a = g.Rating.unique()\n",
    "print a\n",
    "for i in a:\n",
    "    print g[g.Rating == i].count()"
   ]
  },
  {
   "cell_type": "code",
   "execution_count": 3,
   "metadata": {
    "collapsed": false
   },
   "outputs": [
    {
     "data": {
      "text/html": [
       "<div>\n",
       "<table border=\"1\" class=\"dataframe\">\n",
       "  <thead>\n",
       "    <tr style=\"text-align: right;\">\n",
       "      <th></th>\n",
       "      <th>uuid</th>\n",
       "      <th>ord_in_thread</th>\n",
       "      <th>author</th>\n",
       "      <th>published</th>\n",
       "      <th>title</th>\n",
       "      <th>text</th>\n",
       "      <th>language</th>\n",
       "      <th>crawled</th>\n",
       "      <th>site_url</th>\n",
       "      <th>country</th>\n",
       "      <th>...</th>\n",
       "      <th>spam_score</th>\n",
       "      <th>main_img_url</th>\n",
       "      <th>replies_count</th>\n",
       "      <th>participants_count</th>\n",
       "      <th>likes</th>\n",
       "      <th>comments</th>\n",
       "      <th>shares</th>\n",
       "      <th>type</th>\n",
       "      <th>class_type</th>\n",
       "      <th>total_count</th>\n",
       "    </tr>\n",
       "  </thead>\n",
       "  <tbody>\n",
       "    <tr>\n",
       "      <th>0</th>\n",
       "      <td>6a175f46bcd24d39b3e962ad0f29936721db70db</td>\n",
       "      <td>0</td>\n",
       "      <td>Barracuda Brigade</td>\n",
       "      <td>2016-10-26T21:41:00.000+03:00</td>\n",
       "      <td>Muslims BUSTED: They Stole Millions In Gov’t B...</td>\n",
       "      <td>Print They should pay all the back all the mon...</td>\n",
       "      <td>english</td>\n",
       "      <td>2016-10-27T01:49:27.168+03:00</td>\n",
       "      <td>100percentfedup.com</td>\n",
       "      <td>US</td>\n",
       "      <td>...</td>\n",
       "      <td>0.000</td>\n",
       "      <td>http://bb4sp.com/wp-content/uploads/2016/10/Fu...</td>\n",
       "      <td>0</td>\n",
       "      <td>1</td>\n",
       "      <td>0</td>\n",
       "      <td>0</td>\n",
       "      <td>0</td>\n",
       "      <td>bias</td>\n",
       "      <td>Real</td>\n",
       "      <td>1</td>\n",
       "    </tr>\n",
       "    <tr>\n",
       "      <th>1</th>\n",
       "      <td>2bdc29d12605ef9cf3f09f9875040a7113be5d5b</td>\n",
       "      <td>0</td>\n",
       "      <td>reasoning with facts</td>\n",
       "      <td>2016-10-29T08:47:11.259+03:00</td>\n",
       "      <td>Re: Why Did Attorney General Loretta Lynch Ple...</td>\n",
       "      <td>Why Did Attorney General Loretta Lynch Plead T...</td>\n",
       "      <td>english</td>\n",
       "      <td>2016-10-29T08:47:11.259+03:00</td>\n",
       "      <td>100percentfedup.com</td>\n",
       "      <td>US</td>\n",
       "      <td>...</td>\n",
       "      <td>0.000</td>\n",
       "      <td>http://bb4sp.com/wp-content/uploads/2016/10/Fu...</td>\n",
       "      <td>0</td>\n",
       "      <td>1</td>\n",
       "      <td>0</td>\n",
       "      <td>0</td>\n",
       "      <td>0</td>\n",
       "      <td>bias</td>\n",
       "      <td>Real</td>\n",
       "      <td>1</td>\n",
       "    </tr>\n",
       "    <tr>\n",
       "      <th>2</th>\n",
       "      <td>c70e149fdd53de5e61c29281100b9de0ed268bc3</td>\n",
       "      <td>0</td>\n",
       "      <td>Barracuda Brigade</td>\n",
       "      <td>2016-10-31T01:41:49.479+02:00</td>\n",
       "      <td>BREAKING: Weiner Cooperating With FBI On Hilla...</td>\n",
       "      <td>Red State : \\nFox News Sunday reported this mo...</td>\n",
       "      <td>english</td>\n",
       "      <td>2016-10-31T01:41:49.479+02:00</td>\n",
       "      <td>100percentfedup.com</td>\n",
       "      <td>US</td>\n",
       "      <td>...</td>\n",
       "      <td>0.000</td>\n",
       "      <td>http://bb4sp.com/wp-content/uploads/2016/10/Fu...</td>\n",
       "      <td>0</td>\n",
       "      <td>1</td>\n",
       "      <td>0</td>\n",
       "      <td>0</td>\n",
       "      <td>0</td>\n",
       "      <td>bias</td>\n",
       "      <td>Real</td>\n",
       "      <td>1</td>\n",
       "    </tr>\n",
       "    <tr>\n",
       "      <th>3</th>\n",
       "      <td>7cf7c15731ac2a116dd7f629bd57ea468ed70284</td>\n",
       "      <td>0</td>\n",
       "      <td>Fed Up</td>\n",
       "      <td>2016-11-01T05:22:00.000+02:00</td>\n",
       "      <td>PIN DROP SPEECH BY FATHER OF DAUGHTER Kidnappe...</td>\n",
       "      <td>Email Kayla Mueller was a prisoner and torture...</td>\n",
       "      <td>english</td>\n",
       "      <td>2016-11-01T15:46:26.304+02:00</td>\n",
       "      <td>100percentfedup.com</td>\n",
       "      <td>US</td>\n",
       "      <td>...</td>\n",
       "      <td>0.068</td>\n",
       "      <td>http://100percentfedup.com/wp-content/uploads/...</td>\n",
       "      <td>0</td>\n",
       "      <td>0</td>\n",
       "      <td>0</td>\n",
       "      <td>0</td>\n",
       "      <td>0</td>\n",
       "      <td>bias</td>\n",
       "      <td>Real</td>\n",
       "      <td>0</td>\n",
       "    </tr>\n",
       "    <tr>\n",
       "      <th>4</th>\n",
       "      <td>0206b54719c7e241ffe0ad4315b808290dbe6c0f</td>\n",
       "      <td>0</td>\n",
       "      <td>Fed Up</td>\n",
       "      <td>2016-11-01T21:56:00.000+02:00</td>\n",
       "      <td>FANTASTIC! TRUMP'S 7 POINT PLAN To Reform Heal...</td>\n",
       "      <td>Email HEALTHCARE REFORM TO MAKE AMERICA GREAT ...</td>\n",
       "      <td>english</td>\n",
       "      <td>2016-11-01T23:59:42.266+02:00</td>\n",
       "      <td>100percentfedup.com</td>\n",
       "      <td>US</td>\n",
       "      <td>...</td>\n",
       "      <td>0.865</td>\n",
       "      <td>http://100percentfedup.com/wp-content/uploads/...</td>\n",
       "      <td>0</td>\n",
       "      <td>0</td>\n",
       "      <td>0</td>\n",
       "      <td>0</td>\n",
       "      <td>0</td>\n",
       "      <td>bias</td>\n",
       "      <td>Fake</td>\n",
       "      <td>0</td>\n",
       "    </tr>\n",
       "  </tbody>\n",
       "</table>\n",
       "<p>5 rows × 22 columns</p>\n",
       "</div>"
      ],
      "text/plain": [
       "                                       uuid  ord_in_thread  \\\n",
       "0  6a175f46bcd24d39b3e962ad0f29936721db70db              0   \n",
       "1  2bdc29d12605ef9cf3f09f9875040a7113be5d5b              0   \n",
       "2  c70e149fdd53de5e61c29281100b9de0ed268bc3              0   \n",
       "3  7cf7c15731ac2a116dd7f629bd57ea468ed70284              0   \n",
       "4  0206b54719c7e241ffe0ad4315b808290dbe6c0f              0   \n",
       "\n",
       "                 author                      published  \\\n",
       "0     Barracuda Brigade  2016-10-26T21:41:00.000+03:00   \n",
       "1  reasoning with facts  2016-10-29T08:47:11.259+03:00   \n",
       "2     Barracuda Brigade  2016-10-31T01:41:49.479+02:00   \n",
       "3                Fed Up  2016-11-01T05:22:00.000+02:00   \n",
       "4                Fed Up  2016-11-01T21:56:00.000+02:00   \n",
       "\n",
       "                                               title  \\\n",
       "0  Muslims BUSTED: They Stole Millions In Gov’t B...   \n",
       "1  Re: Why Did Attorney General Loretta Lynch Ple...   \n",
       "2  BREAKING: Weiner Cooperating With FBI On Hilla...   \n",
       "3  PIN DROP SPEECH BY FATHER OF DAUGHTER Kidnappe...   \n",
       "4  FANTASTIC! TRUMP'S 7 POINT PLAN To Reform Heal...   \n",
       "\n",
       "                                                text language  \\\n",
       "0  Print They should pay all the back all the mon...  english   \n",
       "1  Why Did Attorney General Loretta Lynch Plead T...  english   \n",
       "2  Red State : \\nFox News Sunday reported this mo...  english   \n",
       "3  Email Kayla Mueller was a prisoner and torture...  english   \n",
       "4  Email HEALTHCARE REFORM TO MAKE AMERICA GREAT ...  english   \n",
       "\n",
       "                         crawled             site_url country     ...      \\\n",
       "0  2016-10-27T01:49:27.168+03:00  100percentfedup.com      US     ...       \n",
       "1  2016-10-29T08:47:11.259+03:00  100percentfedup.com      US     ...       \n",
       "2  2016-10-31T01:41:49.479+02:00  100percentfedup.com      US     ...       \n",
       "3  2016-11-01T15:46:26.304+02:00  100percentfedup.com      US     ...       \n",
       "4  2016-11-01T23:59:42.266+02:00  100percentfedup.com      US     ...       \n",
       "\n",
       "   spam_score                                       main_img_url  \\\n",
       "0       0.000  http://bb4sp.com/wp-content/uploads/2016/10/Fu...   \n",
       "1       0.000  http://bb4sp.com/wp-content/uploads/2016/10/Fu...   \n",
       "2       0.000  http://bb4sp.com/wp-content/uploads/2016/10/Fu...   \n",
       "3       0.068  http://100percentfedup.com/wp-content/uploads/...   \n",
       "4       0.865  http://100percentfedup.com/wp-content/uploads/...   \n",
       "\n",
       "   replies_count participants_count  likes  comments  shares  type  \\\n",
       "0              0                  1      0         0       0  bias   \n",
       "1              0                  1      0         0       0  bias   \n",
       "2              0                  1      0         0       0  bias   \n",
       "3              0                  0      0         0       0  bias   \n",
       "4              0                  0      0         0       0  bias   \n",
       "\n",
       "   class_type total_count  \n",
       "0        Real           1  \n",
       "1        Real           1  \n",
       "2        Real           1  \n",
       "3        Real           0  \n",
       "4        Fake           0  \n",
       "\n",
       "[5 rows x 22 columns]"
      ]
     },
     "execution_count": 3,
     "metadata": {},
     "output_type": "execute_result"
    }
   ],
   "source": [
    "f['class_type'] = 0\n",
    "f['total_count'] = 0\n",
    "for i in range(len(f)):\n",
    "    if f.ix[i, 'spam_score'] < 0.2:\n",
    "        f.ix[i,'class_type'] = \"Real\"\n",
    "        \n",
    "    elif f.ix[i,'spam_score'] > 0.2 and f.ix[i,'spam_score'] < 0.8:\n",
    "        f.ix[i,'class_type'] = \"Ambiguous\"\n",
    "        \n",
    "    else:\n",
    "        f.ix[i,'class_type'] = \"Fake\"\n",
    "        \n",
    "    f.ix[i,'total_count'] = f.ix[i, 'likes'] + f.ix[i, 'comments'] + f.ix[i, 'shares'] + f.ix[i, 'participants_count']\n",
    "    \n",
    "# f = f.drop('class', 1)\n",
    "f.head()\n"
   ]
  },
  {
   "cell_type": "code",
   "execution_count": null,
   "metadata": {
    "collapsed": false
   },
   "outputs": [],
   "source": []
  },
  {
   "cell_type": "code",
   "execution_count": 4,
   "metadata": {
    "collapsed": false
   },
   "outputs": [
    {
     "data": {
      "text/html": [
       "<div>\n",
       "<table border=\"1\" class=\"dataframe\">\n",
       "  <thead>\n",
       "    <tr style=\"text-align: right;\">\n",
       "      <th></th>\n",
       "      <th>output</th>\n",
       "      <th>output_label</th>\n",
       "    </tr>\n",
       "  </thead>\n",
       "  <tbody>\n",
       "    <tr>\n",
       "      <th>0</th>\n",
       "      <td>Real</td>\n",
       "      <td>0</td>\n",
       "    </tr>\n",
       "    <tr>\n",
       "      <th>1</th>\n",
       "      <td>Real</td>\n",
       "      <td>0</td>\n",
       "    </tr>\n",
       "    <tr>\n",
       "      <th>2</th>\n",
       "      <td>Real</td>\n",
       "      <td>0</td>\n",
       "    </tr>\n",
       "    <tr>\n",
       "      <th>3</th>\n",
       "      <td>Real</td>\n",
       "      <td>0</td>\n",
       "    </tr>\n",
       "    <tr>\n",
       "      <th>4</th>\n",
       "      <td>Fake</td>\n",
       "      <td>1</td>\n",
       "    </tr>\n",
       "  </tbody>\n",
       "</table>\n",
       "</div>"
      ],
      "text/plain": [
       "  output  output_label\n",
       "0   Real             0\n",
       "1   Real             0\n",
       "2   Real             0\n",
       "3   Real             0\n",
       "4   Fake             1"
      ]
     },
     "execution_count": 4,
     "metadata": {},
     "output_type": "execute_result"
    }
   ],
   "source": [
    "f.head()\n",
    "y = pd.DataFrame()\n",
    "y['output'] = f['class_type']\n",
    "f = f.drop('class_type', 1)\n",
    "f.head()\n",
    "y['output_label'] = 0\n",
    "for i in range(len(y)):\n",
    "    if y.ix[i,'output'] == \"Fake\":\n",
    "        y.ix[i,'output_label'] = 1\n",
    "    elif y.ix[i,'output'] == \"Ambiguous\":\n",
    "        y.ix[i,'output_label'] = 2\n",
    "    else:\n",
    "        y.ix[i,'output_label'] = 0\n",
    "        \n",
    "y.head()"
   ]
  },
  {
   "cell_type": "code",
   "execution_count": 5,
   "metadata": {
    "collapsed": false
   },
   "outputs": [
    {
     "name": "stdout",
     "output_type": "stream",
     "text": [
      "10399\n",
      "2600\n",
      "10399\n",
      "2600\n"
     ]
    }
   ],
   "source": [
    "from sklearn.model_selection import train_test_split\n",
    "X_train, X_test, y_train, y_test = train_test_split(f, y, test_size=0.2, random_state=42, stratify = y\n",
    "                                                   )\n",
    "print len(X_train)\n",
    "print len(X_test)\n",
    "print len(y_train)\n",
    "print len(y_test)"
   ]
  },
  {
   "cell_type": "code",
   "execution_count": 6,
   "metadata": {
    "collapsed": false
   },
   "outputs": [
    {
     "data": {
      "text/html": [
       "<div>\n",
       "<table border=\"1\" class=\"dataframe\">\n",
       "  <thead>\n",
       "    <tr style=\"text-align: right;\">\n",
       "      <th></th>\n",
       "      <th>uuid</th>\n",
       "      <th>ord_in_thread</th>\n",
       "      <th>author</th>\n",
       "      <th>published</th>\n",
       "      <th>title</th>\n",
       "      <th>text</th>\n",
       "      <th>language</th>\n",
       "      <th>crawled</th>\n",
       "      <th>site_url</th>\n",
       "      <th>country</th>\n",
       "      <th>...</th>\n",
       "      <th>thread_title</th>\n",
       "      <th>spam_score</th>\n",
       "      <th>main_img_url</th>\n",
       "      <th>replies_count</th>\n",
       "      <th>participants_count</th>\n",
       "      <th>likes</th>\n",
       "      <th>comments</th>\n",
       "      <th>shares</th>\n",
       "      <th>type</th>\n",
       "      <th>total_count</th>\n",
       "    </tr>\n",
       "  </thead>\n",
       "  <tbody>\n",
       "    <tr>\n",
       "      <th>11400</th>\n",
       "      <td>aaf710db25ffa0c21ff92b7cff052098fa5307ed</td>\n",
       "      <td>0</td>\n",
       "      <td>Brett T.</td>\n",
       "      <td>2016-10-27T02:15:17.517+03:00</td>\n",
       "      <td>Who rode it best? Jesse Jackson mounts up to f...</td>\n",
       "      <td>Who rode it best? Jesse Jackson mounts up to f...</td>\n",
       "      <td>english</td>\n",
       "      <td>2016-10-27T02:15:17.517+03:00</td>\n",
       "      <td>twitchy.com</td>\n",
       "      <td>US</td>\n",
       "      <td>...</td>\n",
       "      <td>Who rode it best? Jesse Jackson mounts up to f...</td>\n",
       "      <td>0.0</td>\n",
       "      <td>http://twitchy.com/wp-content/uploads/2016/10/...</td>\n",
       "      <td>0</td>\n",
       "      <td>1</td>\n",
       "      <td>0</td>\n",
       "      <td>0</td>\n",
       "      <td>0</td>\n",
       "      <td>bs</td>\n",
       "      <td>1</td>\n",
       "    </tr>\n",
       "    <tr>\n",
       "      <th>9562</th>\n",
       "      <td>42ed84d36e018dd7012ec7c0d5be3772f15ac0c8</td>\n",
       "      <td>0</td>\n",
       "      <td>Editor</td>\n",
       "      <td>2016-10-28T03:32:10.905+03:00</td>\n",
       "      <td>Scientists find 19 pieces of NON-HUMAN DNA in ...</td>\n",
       "      <td>According to a new study, eight percent of our...</td>\n",
       "      <td>english</td>\n",
       "      <td>2016-10-28T03:32:10.905+03:00</td>\n",
       "      <td>theeventchronicle.com</td>\n",
       "      <td>US</td>\n",
       "      <td>...</td>\n",
       "      <td>Scientists find 19 pieces of NON-HUMAN DNA in ...</td>\n",
       "      <td>0.0</td>\n",
       "      <td>NaN</td>\n",
       "      <td>0</td>\n",
       "      <td>1</td>\n",
       "      <td>0</td>\n",
       "      <td>0</td>\n",
       "      <td>0</td>\n",
       "      <td>bs</td>\n",
       "      <td>1</td>\n",
       "    </tr>\n",
       "    <tr>\n",
       "      <th>5243</th>\n",
       "      <td>42abbec003b0d993a6554362925b43b1cab05ccb</td>\n",
       "      <td>0</td>\n",
       "      <td>IWB</td>\n",
       "      <td>2016-10-27T17:13:41.770+03:00</td>\n",
       "      <td>What Happens If Trump LOSES The Election? What...</td>\n",
       "      <td>What Happens If Trump LOSES The Election? What...</td>\n",
       "      <td>english</td>\n",
       "      <td>2016-10-27T17:13:41.770+03:00</td>\n",
       "      <td>investmentwatchblog.com</td>\n",
       "      <td>US</td>\n",
       "      <td>...</td>\n",
       "      <td>What Happens If Trump LOSES The Election? What...</td>\n",
       "      <td>0.0</td>\n",
       "      <td>NaN</td>\n",
       "      <td>0</td>\n",
       "      <td>1</td>\n",
       "      <td>0</td>\n",
       "      <td>0</td>\n",
       "      <td>0</td>\n",
       "      <td>bs</td>\n",
       "      <td>1</td>\n",
       "    </tr>\n",
       "    <tr>\n",
       "      <th>3777</th>\n",
       "      <td>ef1be063e8754ac155f3950f554510d757063d6a</td>\n",
       "      <td>0</td>\n",
       "      <td>Lloyd Billingsley</td>\n",
       "      <td>2016-11-04T11:05:00.000+02:00</td>\n",
       "      <td>POTUS FLOTUS Pocus</td>\n",
       "      <td>The president and Hillary Clinton share a “stu...</td>\n",
       "      <td>english</td>\n",
       "      <td>2016-11-04T12:29:09.876+02:00</td>\n",
       "      <td>frontpagemag.com</td>\n",
       "      <td>US</td>\n",
       "      <td>...</td>\n",
       "      <td>POTUS FLOTUS Pocus</td>\n",
       "      <td>0.0</td>\n",
       "      <td>http://www.frontpagemag.com/sites/default/file...</td>\n",
       "      <td>0</td>\n",
       "      <td>1</td>\n",
       "      <td>0</td>\n",
       "      <td>0</td>\n",
       "      <td>0</td>\n",
       "      <td>hate</td>\n",
       "      <td>1</td>\n",
       "    </tr>\n",
       "    <tr>\n",
       "      <th>3372</th>\n",
       "      <td>88df1b9d21daa1192270d34842bea3174ca09c7d</td>\n",
       "      <td>0</td>\n",
       "      <td>Dr. Stoyan Sarg</td>\n",
       "      <td>2016-11-01T05:47:47.225+02:00</td>\n",
       "      <td>Are We on the Eve of Total Life Extinction?</td>\n",
       "      <td>A 23 kiloton tower shot called BADGER, fired o...</td>\n",
       "      <td>english</td>\n",
       "      <td>2016-11-01T05:47:47.225+02:00</td>\n",
       "      <td>foreignpolicyjournal.com</td>\n",
       "      <td>US</td>\n",
       "      <td>...</td>\n",
       "      <td>Are We on the Eve of Total Life Extinction?</td>\n",
       "      <td>0.0</td>\n",
       "      <td>NaN</td>\n",
       "      <td>0</td>\n",
       "      <td>1</td>\n",
       "      <td>0</td>\n",
       "      <td>0</td>\n",
       "      <td>0</td>\n",
       "      <td>bs</td>\n",
       "      <td>1</td>\n",
       "    </tr>\n",
       "  </tbody>\n",
       "</table>\n",
       "<p>5 rows × 21 columns</p>\n",
       "</div>"
      ],
      "text/plain": [
       "                                           uuid  ord_in_thread  \\\n",
       "11400  aaf710db25ffa0c21ff92b7cff052098fa5307ed              0   \n",
       "9562   42ed84d36e018dd7012ec7c0d5be3772f15ac0c8              0   \n",
       "5243   42abbec003b0d993a6554362925b43b1cab05ccb              0   \n",
       "3777   ef1be063e8754ac155f3950f554510d757063d6a              0   \n",
       "3372   88df1b9d21daa1192270d34842bea3174ca09c7d              0   \n",
       "\n",
       "                  author                      published  \\\n",
       "11400           Brett T.  2016-10-27T02:15:17.517+03:00   \n",
       "9562              Editor  2016-10-28T03:32:10.905+03:00   \n",
       "5243                 IWB  2016-10-27T17:13:41.770+03:00   \n",
       "3777   Lloyd Billingsley  2016-11-04T11:05:00.000+02:00   \n",
       "3372     Dr. Stoyan Sarg  2016-11-01T05:47:47.225+02:00   \n",
       "\n",
       "                                                   title  \\\n",
       "11400  Who rode it best? Jesse Jackson mounts up to f...   \n",
       "9562   Scientists find 19 pieces of NON-HUMAN DNA in ...   \n",
       "5243   What Happens If Trump LOSES The Election? What...   \n",
       "3777                                  POTUS FLOTUS Pocus   \n",
       "3372         Are We on the Eve of Total Life Extinction?   \n",
       "\n",
       "                                                    text language  \\\n",
       "11400  Who rode it best? Jesse Jackson mounts up to f...  english   \n",
       "9562   According to a new study, eight percent of our...  english   \n",
       "5243   What Happens If Trump LOSES The Election? What...  english   \n",
       "3777   The president and Hillary Clinton share a “stu...  english   \n",
       "3372   A 23 kiloton tower shot called BADGER, fired o...  english   \n",
       "\n",
       "                             crawled                  site_url country  \\\n",
       "11400  2016-10-27T02:15:17.517+03:00               twitchy.com      US   \n",
       "9562   2016-10-28T03:32:10.905+03:00     theeventchronicle.com      US   \n",
       "5243   2016-10-27T17:13:41.770+03:00   investmentwatchblog.com      US   \n",
       "3777   2016-11-04T12:29:09.876+02:00          frontpagemag.com      US   \n",
       "3372   2016-11-01T05:47:47.225+02:00  foreignpolicyjournal.com      US   \n",
       "\n",
       "          ...                                           thread_title  \\\n",
       "11400     ...      Who rode it best? Jesse Jackson mounts up to f...   \n",
       "9562      ...      Scientists find 19 pieces of NON-HUMAN DNA in ...   \n",
       "5243      ...      What Happens If Trump LOSES The Election? What...   \n",
       "3777      ...                                     POTUS FLOTUS Pocus   \n",
       "3372      ...            Are We on the Eve of Total Life Extinction?   \n",
       "\n",
       "      spam_score                                       main_img_url  \\\n",
       "11400        0.0  http://twitchy.com/wp-content/uploads/2016/10/...   \n",
       "9562         0.0                                                NaN   \n",
       "5243         0.0                                                NaN   \n",
       "3777         0.0  http://www.frontpagemag.com/sites/default/file...   \n",
       "3372         0.0                                                NaN   \n",
       "\n",
       "      replies_count  participants_count  likes  comments  shares  type  \\\n",
       "11400             0                   1      0         0       0    bs   \n",
       "9562              0                   1      0         0       0    bs   \n",
       "5243              0                   1      0         0       0    bs   \n",
       "3777              0                   1      0         0       0  hate   \n",
       "3372              0                   1      0         0       0    bs   \n",
       "\n",
       "      total_count  \n",
       "11400           1  \n",
       "9562            1  \n",
       "5243            1  \n",
       "3777            1  \n",
       "3372            1  \n",
       "\n",
       "[5 rows x 21 columns]"
      ]
     },
     "execution_count": 6,
     "metadata": {},
     "output_type": "execute_result"
    }
   ],
   "source": [
    "X_train.head()"
   ]
  },
  {
   "cell_type": "code",
   "execution_count": 7,
   "metadata": {
    "collapsed": false
   },
   "outputs": [
    {
     "data": {
      "text/html": [
       "<div>\n",
       "<table border=\"1\" class=\"dataframe\">\n",
       "  <thead>\n",
       "    <tr style=\"text-align: right;\">\n",
       "      <th></th>\n",
       "      <th>text</th>\n",
       "    </tr>\n",
       "  </thead>\n",
       "  <tbody>\n",
       "    <tr>\n",
       "      <th>11400</th>\n",
       "      <td>Who rode it best? Jesse Jackson mounts up to f...</td>\n",
       "    </tr>\n",
       "    <tr>\n",
       "      <th>9562</th>\n",
       "      <td>According to a new study, eight percent of our...</td>\n",
       "    </tr>\n",
       "    <tr>\n",
       "      <th>5243</th>\n",
       "      <td>What Happens If Trump LOSES The Election? What...</td>\n",
       "    </tr>\n",
       "    <tr>\n",
       "      <th>3777</th>\n",
       "      <td>The president and Hillary Clinton share a “stu...</td>\n",
       "    </tr>\n",
       "    <tr>\n",
       "      <th>3372</th>\n",
       "      <td>A 23 kiloton tower shot called BADGER, fired o...</td>\n",
       "    </tr>\n",
       "  </tbody>\n",
       "</table>\n",
       "</div>"
      ],
      "text/plain": [
       "                                                    text\n",
       "11400  Who rode it best? Jesse Jackson mounts up to f...\n",
       "9562   According to a new study, eight percent of our...\n",
       "5243   What Happens If Trump LOSES The Election? What...\n",
       "3777   The president and Hillary Clinton share a “stu...\n",
       "3372   A 23 kiloton tower shot called BADGER, fired o..."
      ]
     },
     "execution_count": 7,
     "metadata": {},
     "output_type": "execute_result"
    }
   ],
   "source": [
    "X_train[['text']].head()"
   ]
  },
  {
   "cell_type": "code",
   "execution_count": 8,
   "metadata": {
    "collapsed": false
   },
   "outputs": [
    {
     "name": "stdout",
     "output_type": "stream",
     "text": [
      "{'documents': [{'text': \"[ 'This is the biggest story not being reported.\\\\nWhile the world teeters on the brink of World War 3, the media is reporting on Kim Kardashian.\\\\nMeanwhile the Russians are deploying the new Satan-2 missile (designation given by NATO).\\\\nEach Satan-2 missile has the power to devastate an area the size of Texas.\\\\nhttp://www.nbcnews.com/news/wo... \\\\nhttp://www.dailymail.co.uk/sci...']\", 'id': '1513'}]}\n",
      "{\"documents\":[{\"keyPhrases\":[\"missile\",\"world teeters\",\"new Satan\",\"brink of World War\",\"nEach Satan\",\"Russians\",\"power\",\"Kim Kardashian\",\"nMeanwhile\",\"area\",\"media\",\"NATO\",\"designation\",\"size of Texas\",\"biggest story\"],\"id\":\"1513\"}],\"errors\":[]}\n"
     ]
    }
   ],
   "source": [
    "import httplib, urllib, base64\n",
    "\n",
    "headers = {\n",
    "    # Request headers\n",
    "    'Content-Type': 'application/json',\n",
    "    'Ocp-Apim-Subscription-Key': 'b1b17649c5cb443a81c82343165d0a27',\n",
    "}\n",
    "\n",
    "# body = {\n",
    "#   \"documents\": [\n",
    "#     {\"id\": \"1\",\"text\": \"['\\Today is a good day. It was a fine, bright evening. It made me very happy\"\n",
    "#     },\n",
    "#     {\n",
    "#       \"id\": \"2\",\n",
    "#       \"text\": \"Today is a bad day. It was not fine, dull evening. It made me very unhappy\"\n",
    "#     }]\n",
    "# }\n",
    "\n",
    "body = {\n",
    "  \"documents\": [\n",
    "    {\"id\":\"1513\",\"text\": \"[ \\'This is the biggest story not being reported.\\\\nWhile the world teeters on the brink of World War 3, the media is reporting on Kim Kardashian.\\\\nMeanwhile the Russians are deploying the new Satan-2 missile (designation given by NATO).\\\\nEach Satan-2 missile has the power to devastate an area the size of Texas.\\\\nhttp://www.nbcnews.com/news/wo... \\\\nhttp://www.dailymail.co.uk/sci...\\']\"}]\n",
    "}\n",
    "\n",
    "print body\n",
    "\n",
    "params = urllib.urlencode({\n",
    "})\n",
    "\n",
    "try:\n",
    "    conn = httplib.HTTPSConnection('westus.api.cognitive.microsoft.com')\n",
    "    conn.request(\"POST\", \"/text/analytics/v2.0/keyPhrases?%s\" % params, str(body), headers)\n",
    "    response = conn.getresponse()\n",
    "    data = response.read()\n",
    "    print data\n",
    "    conn.close()\n",
    "except Exception as e:\n",
    "    print(\"[Errno {0}] {1}\".format(e.errno, e.strerror))"
   ]
  },
  {
   "cell_type": "code",
   "execution_count": 9,
   "metadata": {
    "collapsed": false
   },
   "outputs": [],
   "source": [
    "text_train = pd.DataFrame()\n",
    "text_train = X_train[['text']]"
   ]
  },
  {
   "cell_type": "code",
   "execution_count": 10,
   "metadata": {
    "collapsed": false
   },
   "outputs": [
    {
     "data": {
      "text/html": [
       "<div>\n",
       "<table border=\"1\" class=\"dataframe\">\n",
       "  <thead>\n",
       "    <tr style=\"text-align: right;\">\n",
       "      <th></th>\n",
       "      <th>text</th>\n",
       "    </tr>\n",
       "  </thead>\n",
       "  <tbody>\n",
       "    <tr>\n",
       "      <th>0</th>\n",
       "      <td>Who rode it best? Jesse Jackson mounts up to f...</td>\n",
       "    </tr>\n",
       "    <tr>\n",
       "      <th>1</th>\n",
       "      <td>According to a new study, eight percent of our...</td>\n",
       "    </tr>\n",
       "    <tr>\n",
       "      <th>2</th>\n",
       "      <td>What Happens If Trump LOSES The Election? What...</td>\n",
       "    </tr>\n",
       "    <tr>\n",
       "      <th>3</th>\n",
       "      <td>The president and Hillary Clinton share a “stu...</td>\n",
       "    </tr>\n",
       "    <tr>\n",
       "      <th>4</th>\n",
       "      <td>A 23 kiloton tower shot called BADGER, fired o...</td>\n",
       "    </tr>\n",
       "    <tr>\n",
       "      <th>5</th>\n",
       "      <td>posted by Eddie Gun man have stolen a Dirty Bo...</td>\n",
       "    </tr>\n",
       "    <tr>\n",
       "      <th>6</th>\n",
       "      <td>VICE News Fri, November 18, 2016 10:38am URL: ...</td>\n",
       "    </tr>\n",
       "    <tr>\n",
       "      <th>7</th>\n",
       "      <td>Obamacare is working exactly as planned, and t...</td>\n",
       "    </tr>\n",
       "    <tr>\n",
       "      <th>8</th>\n",
       "      <td>Convinced that previous snow plowing policies ...</td>\n",
       "    </tr>\n",
       "    <tr>\n",
       "      <th>9</th>\n",
       "      <td>By Rahul Manchanda, Esq. on November 10, 2016 ...</td>\n",
       "    </tr>\n",
       "    <tr>\n",
       "      <th>10</th>\n",
       "      <td>Réunion du Conseil de sécurité du 28 octobre 2...</td>\n",
       "    </tr>\n",
       "    <tr>\n",
       "      <th>11</th>\n",
       "      <td>- &lt; It’s Not Broken, So Let’s Break It–“Califo...</td>\n",
       "    </tr>\n",
       "    <tr>\n",
       "      <th>12</th>\n",
       "      <td>Who can argue with this young lady’s speech?\\n...</td>\n",
       "    </tr>\n",
       "    <tr>\n",
       "      <th>13</th>\n",
       "      <td>‘Go Back to Where You Claim Home,’ Kansas Lawm...</td>\n",
       "    </tr>\n",
       "    <tr>\n",
       "      <th>14</th>\n",
       "      <td>Prison Planet.com October 27, 2016 YUGE RECORD...</td>\n",
       "    </tr>\n",
       "    <tr>\n",
       "      <th>15</th>\n",
       "      <td>We Are Change \\nThousands of wild American Bis...</td>\n",
       "    </tr>\n",
       "    <tr>\n",
       "      <th>16</th>\n",
       "      <td>Insider Leaks Bill’s 2-Word Nickname For Hilla...</td>\n",
       "    </tr>\n",
       "    <tr>\n",
       "      <th>17</th>\n",
       "      <td>Email Ever wonder what’s on the mind of today’...</td>\n",
       "    </tr>\n",
       "    <tr>\n",
       "      <th>18</th>\n",
       "      <td>November 11, 2016 ‘Trump’s election heralds co...</td>\n",
       "    </tr>\n",
       "    <tr>\n",
       "      <th>19</th>\n",
       "      <td>Headlines from Siberia reveal an incident of u...</td>\n",
       "    </tr>\n",
       "    <tr>\n",
       "      <th>20</th>\n",
       "      <td>\\nZERO HEDGE \\nWith furious Democrats - and th...</td>\n",
       "    </tr>\n",
       "    <tr>\n",
       "      <th>21</th>\n",
       "      <td>Is Trump the lesser of two evils or are both c...</td>\n",
       "    </tr>\n",
       "    <tr>\n",
       "      <th>22</th>\n",
       "      <td>Click Here To Learn More About Alexandra's Per...</td>\n",
       "    </tr>\n",
       "    <tr>\n",
       "      <th>23</th>\n",
       "      <td>Insurance Prices for Many Obamacare Customers ...</td>\n",
       "    </tr>\n",
       "    <tr>\n",
       "      <th>24</th>\n",
       "      <td>Zach Cartwright | November 11, 2016 \\nThe Demo...</td>\n",
       "    </tr>\n",
       "    <tr>\n",
       "      <th>25</th>\n",
       "      <td>I'm not horrified she's with the Washington Po...</td>\n",
       "    </tr>\n",
       "    <tr>\n",
       "      <th>26</th>\n",
       "      <td>14 Shares\\n4 9 0 1\\nIt's a heartwarming moment...</td>\n",
       "    </tr>\n",
       "    <tr>\n",
       "      <th>27</th>\n",
       "      <td>link Well, that didn't go as planned... Anyway...</td>\n",
       "    </tr>\n",
       "    <tr>\n",
       "      <th>28</th>\n",
       "      <td>Two Systems of Justice In America: One for the...</td>\n",
       "    </tr>\n",
       "    <tr>\n",
       "      <th>29</th>\n",
       "      <td>Email \\nThere was a time that the parent of a ...</td>\n",
       "    </tr>\n",
       "    <tr>\n",
       "      <th>...</th>\n",
       "      <td>...</td>\n",
       "    </tr>\n",
       "    <tr>\n",
       "      <th>10369</th>\n",
       "      <td>geoengineeringwatch.org \\nThe power structure ...</td>\n",
       "    </tr>\n",
       "    <tr>\n",
       "      <th>10370</th>\n",
       "      <td>When I attempt to share your stuff on Facebook...</td>\n",
       "    </tr>\n",
       "    <tr>\n",
       "      <th>10371</th>\n",
       "      <td>Next Swipe left/right 16th century portraits t...</td>\n",
       "    </tr>\n",
       "    <tr>\n",
       "      <th>10372</th>\n",
       "      <td>BNI Store Oct 31 2016 “He is a pig,” says morb...</td>\n",
       "    </tr>\n",
       "    <tr>\n",
       "      <th>10373</th>\n",
       "      <td>Anthem\\nRIP - Leonard Cohen Dead at 82\\nVideo...</td>\n",
       "    </tr>\n",
       "    <tr>\n",
       "      <th>10374</th>\n",
       "      <td>The Modern History of ‘Rigged’ US Elections Oc...</td>\n",
       "    </tr>\n",
       "    <tr>\n",
       "      <th>10375</th>\n",
       "      <td>US election claims against Russia expose Clint...</td>\n",
       "    </tr>\n",
       "    <tr>\n",
       "      <th>10376</th>\n",
       "      <td>Carrier battle group never planned to call at ...</td>\n",
       "    </tr>\n",
       "    <tr>\n",
       "      <th>10377</th>\n",
       "      <td>President Obama has stooped to new lows in his...</td>\n",
       "    </tr>\n",
       "    <tr>\n",
       "      <th>10378</th>\n",
       "      <td>Waking Times \\nIt’s always important to keep a...</td>\n",
       "    </tr>\n",
       "    <tr>\n",
       "      <th>10379</th>\n",
       "      <td>Era of Wisdom October 27, 2016 \\nBrandon Turbe...</td>\n",
       "    </tr>\n",
       "    <tr>\n",
       "      <th>10380</th>\n",
       "      <td>YHC-FTSE Oct 26, 2016 5:14 PM \\nWould have bee...</td>\n",
       "    </tr>\n",
       "    <tr>\n",
       "      <th>10381</th>\n",
       "      <td>This is vintage M. Kelly. People have been cal...</td>\n",
       "    </tr>\n",
       "    <tr>\n",
       "      <th>10382</th>\n",
       "      <td>“The ultimate measure of a man is not where he...</td>\n",
       "    </tr>\n",
       "    <tr>\n",
       "      <th>10383</th>\n",
       "      <td>By Top Right News on November 8, 2016 in Uncat...</td>\n",
       "    </tr>\n",
       "    <tr>\n",
       "      <th>10384</th>\n",
       "      <td>Click Here To Learn More About Alexandra's Per...</td>\n",
       "    </tr>\n",
       "    <tr>\n",
       "      <th>10385</th>\n",
       "      <td>As Aging Population Increases, Elders and Alli...</td>\n",
       "    </tr>\n",
       "    <tr>\n",
       "      <th>10386</th>\n",
       "      <td>NTEB Ads Privacy Policy Donald Trump, Bible Pr...</td>\n",
       "    </tr>\n",
       "    <tr>\n",
       "      <th>10387</th>\n",
       "      <td>Share on Facebook If gummy bears, peach rings ...</td>\n",
       "    </tr>\n",
       "    <tr>\n",
       "      <th>10388</th>\n",
       "      <td>Reality check media SYRIA: Heavy Fighting as R...</td>\n",
       "    </tr>\n",
       "    <tr>\n",
       "      <th>10389</th>\n",
       "      <td>Most College Students Think America Invented S...</td>\n",
       "    </tr>\n",
       "    <tr>\n",
       "      <th>10390</th>\n",
       "      <td>Print \\nRick Ross was like a loud fart in a qu...</td>\n",
       "    </tr>\n",
       "    <tr>\n",
       "      <th>10391</th>\n",
       "      <td>By Tai Amri Spann-Wilson / 400yearsinbabylon.b...</td>\n",
       "    </tr>\n",
       "    <tr>\n",
       "      <th>10392</th>\n",
       "      <td>All is fair in love and war, and this particul...</td>\n",
       "    </tr>\n",
       "    <tr>\n",
       "      <th>10393</th>\n",
       "      <td>posted by Eddie Without much comment or fanfar...</td>\n",
       "    </tr>\n",
       "    <tr>\n",
       "      <th>10394</th>\n",
       "      <td>AB-Çin ilişkilerinde ABD ve NATO’nun etkisi ya...</td>\n",
       "    </tr>\n",
       "    <tr>\n",
       "      <th>10395</th>\n",
       "      <td>Deadline : \\nDonald Trumpâs star on the icon...</td>\n",
       "    </tr>\n",
       "    <tr>\n",
       "      <th>10396</th>\n",
       "      <td>Subscribe \\nThe Obama administration recently ...</td>\n",
       "    </tr>\n",
       "    <tr>\n",
       "      <th>10397</th>\n",
       "      <td>October 31, 2016 White House Press Secretary J...</td>\n",
       "    </tr>\n",
       "    <tr>\n",
       "      <th>10398</th>\n",
       "      <td>Posted 10/31/2016 3:41 pm by PatriotRising wit...</td>\n",
       "    </tr>\n",
       "  </tbody>\n",
       "</table>\n",
       "<p>10399 rows × 1 columns</p>\n",
       "</div>"
      ],
      "text/plain": [
       "                                                    text\n",
       "0      Who rode it best? Jesse Jackson mounts up to f...\n",
       "1      According to a new study, eight percent of our...\n",
       "2      What Happens If Trump LOSES The Election? What...\n",
       "3      The president and Hillary Clinton share a “stu...\n",
       "4      A 23 kiloton tower shot called BADGER, fired o...\n",
       "5      posted by Eddie Gun man have stolen a Dirty Bo...\n",
       "6      VICE News Fri, November 18, 2016 10:38am URL: ...\n",
       "7      Obamacare is working exactly as planned, and t...\n",
       "8      Convinced that previous snow plowing policies ...\n",
       "9      By Rahul Manchanda, Esq. on November 10, 2016 ...\n",
       "10     Réunion du Conseil de sécurité du 28 octobre 2...\n",
       "11     - < It’s Not Broken, So Let’s Break It–“Califo...\n",
       "12     Who can argue with this young lady’s speech?\\n...\n",
       "13     ‘Go Back to Where You Claim Home,’ Kansas Lawm...\n",
       "14     Prison Planet.com October 27, 2016 YUGE RECORD...\n",
       "15     We Are Change \\nThousands of wild American Bis...\n",
       "16     Insider Leaks Bill’s 2-Word Nickname For Hilla...\n",
       "17     Email Ever wonder what’s on the mind of today’...\n",
       "18     November 11, 2016 ‘Trump’s election heralds co...\n",
       "19     Headlines from Siberia reveal an incident of u...\n",
       "20     \\nZERO HEDGE \\nWith furious Democrats - and th...\n",
       "21     Is Trump the lesser of two evils or are both c...\n",
       "22     Click Here To Learn More About Alexandra's Per...\n",
       "23     Insurance Prices for Many Obamacare Customers ...\n",
       "24     Zach Cartwright | November 11, 2016 \\nThe Demo...\n",
       "25     I'm not horrified she's with the Washington Po...\n",
       "26     14 Shares\\n4 9 0 1\\nIt's a heartwarming moment...\n",
       "27     link Well, that didn't go as planned... Anyway...\n",
       "28     Two Systems of Justice In America: One for the...\n",
       "29     Email \\nThere was a time that the parent of a ...\n",
       "...                                                  ...\n",
       "10369  geoengineeringwatch.org \\nThe power structure ...\n",
       "10370  When I attempt to share your stuff on Facebook...\n",
       "10371  Next Swipe left/right 16th century portraits t...\n",
       "10372  BNI Store Oct 31 2016 “He is a pig,” says morb...\n",
       "10373   Anthem\\nRIP - Leonard Cohen Dead at 82\\nVideo...\n",
       "10374  The Modern History of ‘Rigged’ US Elections Oc...\n",
       "10375  US election claims against Russia expose Clint...\n",
       "10376  Carrier battle group never planned to call at ...\n",
       "10377  President Obama has stooped to new lows in his...\n",
       "10378  Waking Times \\nIt’s always important to keep a...\n",
       "10379  Era of Wisdom October 27, 2016 \\nBrandon Turbe...\n",
       "10380  YHC-FTSE Oct 26, 2016 5:14 PM \\nWould have bee...\n",
       "10381  This is vintage M. Kelly. People have been cal...\n",
       "10382  “The ultimate measure of a man is not where he...\n",
       "10383  By Top Right News on November 8, 2016 in Uncat...\n",
       "10384  Click Here To Learn More About Alexandra's Per...\n",
       "10385  As Aging Population Increases, Elders and Alli...\n",
       "10386  NTEB Ads Privacy Policy Donald Trump, Bible Pr...\n",
       "10387  Share on Facebook If gummy bears, peach rings ...\n",
       "10388  Reality check media SYRIA: Heavy Fighting as R...\n",
       "10389  Most College Students Think America Invented S...\n",
       "10390  Print \\nRick Ross was like a loud fart in a qu...\n",
       "10391  By Tai Amri Spann-Wilson / 400yearsinbabylon.b...\n",
       "10392  All is fair in love and war, and this particul...\n",
       "10393  posted by Eddie Without much comment or fanfar...\n",
       "10394  AB-Çin ilişkilerinde ABD ve NATO’nun etkisi ya...\n",
       "10395  Deadline : \\nDonald Trumpâs star on the icon...\n",
       "10396  Subscribe \\nThe Obama administration recently ...\n",
       "10397  October 31, 2016 White House Press Secretary J...\n",
       "10398  Posted 10/31/2016 3:41 pm by PatriotRising wit...\n",
       "\n",
       "[10399 rows x 1 columns]"
      ]
     },
     "execution_count": 10,
     "metadata": {},
     "output_type": "execute_result"
    }
   ],
   "source": [
    "text_train.reset_index(drop=True)\n",
    "# text_train = text_train.drop('index')"
   ]
  },
  {
   "cell_type": "code",
   "execution_count": 11,
   "metadata": {
    "collapsed": false
   },
   "outputs": [],
   "source": [
    "\n",
    "text_test = pd.DataFrame()\n",
    "text_test = X_test[['text']]\n",
    "text_test = text_test.reset_index(drop=True)"
   ]
  },
  {
   "cell_type": "code",
   "execution_count": 12,
   "metadata": {
    "collapsed": false
   },
   "outputs": [
    {
     "data": {
      "text/html": [
       "<div>\n",
       "<table border=\"1\" class=\"dataframe\">\n",
       "  <thead>\n",
       "    <tr style=\"text-align: right;\">\n",
       "      <th></th>\n",
       "      <th>text</th>\n",
       "    </tr>\n",
       "  </thead>\n",
       "  <tbody>\n",
       "    <tr>\n",
       "      <th>0</th>\n",
       "      <td>This is the biggest story not being reported.\\...</td>\n",
       "    </tr>\n",
       "    <tr>\n",
       "      <th>1</th>\n",
       "      <td>. This Ginger Tea Recipe Cleanses the Liver, D...</td>\n",
       "    </tr>\n",
       "    <tr>\n",
       "      <th>2</th>\n",
       "      <td>. NATO, US &amp; UK Assemble Largest Troop Buildup...</td>\n",
       "    </tr>\n",
       "    <tr>\n",
       "      <th>3</th>\n",
       "      <td>November 18: Daily Contrarian Reads By David S...</td>\n",
       "    </tr>\n",
       "    <tr>\n",
       "      <th>4</th>\n",
       "      <td>We Are Change \\nAs disturbing revelations abou...</td>\n",
       "    </tr>\n",
       "  </tbody>\n",
       "</table>\n",
       "</div>"
      ],
      "text/plain": [
       "                                                text\n",
       "0  This is the biggest story not being reported.\\...\n",
       "1  . This Ginger Tea Recipe Cleanses the Liver, D...\n",
       "2  . NATO, US & UK Assemble Largest Troop Buildup...\n",
       "3  November 18: Daily Contrarian Reads By David S...\n",
       "4  We Are Change \\nAs disturbing revelations abou..."
      ]
     },
     "execution_count": 12,
     "metadata": {},
     "output_type": "execute_result"
    }
   ],
   "source": [
    "# text_test['temp'] = 0\n",
    "# count = 1\n",
    "# for i in range(len(text_test)):\n",
    "#     text_test.ix[i,'temp'] = count\n",
    "#     count += 1\n",
    "text_test.head()"
   ]
  },
  {
   "cell_type": "code",
   "execution_count": 13,
   "metadata": {
    "collapsed": false
   },
   "outputs": [
    {
     "data": {
      "text/html": [
       "<div>\n",
       "<table border=\"1\" class=\"dataframe\">\n",
       "  <thead>\n",
       "    <tr style=\"text-align: right;\">\n",
       "      <th></th>\n",
       "      <th>text</th>\n",
       "      <th>id</th>\n",
       "    </tr>\n",
       "  </thead>\n",
       "  <tbody>\n",
       "    <tr>\n",
       "      <th>0</th>\n",
       "      <td>This is the biggest story not being reported.\\...</td>\n",
       "      <td>0</td>\n",
       "    </tr>\n",
       "    <tr>\n",
       "      <th>1</th>\n",
       "      <td>. This Ginger Tea Recipe Cleanses the Liver, D...</td>\n",
       "      <td>1</td>\n",
       "    </tr>\n",
       "    <tr>\n",
       "      <th>2</th>\n",
       "      <td>. NATO, US &amp; UK Assemble Largest Troop Buildup...</td>\n",
       "      <td>2</td>\n",
       "    </tr>\n",
       "    <tr>\n",
       "      <th>3</th>\n",
       "      <td>November 18: Daily Contrarian Reads By David S...</td>\n",
       "      <td>3</td>\n",
       "    </tr>\n",
       "    <tr>\n",
       "      <th>4</th>\n",
       "      <td>We Are Change \\nAs disturbing revelations abou...</td>\n",
       "      <td>4</td>\n",
       "    </tr>\n",
       "  </tbody>\n",
       "</table>\n",
       "</div>"
      ],
      "text/plain": [
       "                                                text id\n",
       "0  This is the biggest story not being reported.\\...  0\n",
       "1  . This Ginger Tea Recipe Cleanses the Liver, D...  1\n",
       "2  . NATO, US & UK Assemble Largest Troop Buildup...  2\n",
       "3  November 18: Daily Contrarian Reads By David S...  3\n",
       "4  We Are Change \\nAs disturbing revelations abou...  4"
      ]
     },
     "execution_count": 13,
     "metadata": {},
     "output_type": "execute_result"
    }
   ],
   "source": [
    "text_test['id'] = 0\n",
    "for i in range(len(text_test)):\n",
    "    text_test.ix[i,'id'] = str(i)\n",
    "text_test.head()"
   ]
  },
  {
   "cell_type": "code",
   "execution_count": 14,
   "metadata": {
    "collapsed": false
   },
   "outputs": [
    {
     "data": {
      "text/html": [
       "<div>\n",
       "<table border=\"1\" class=\"dataframe\">\n",
       "  <thead>\n",
       "    <tr style=\"text-align: right;\">\n",
       "      <th></th>\n",
       "      <th>text</th>\n",
       "      <th>id</th>\n",
       "    </tr>\n",
       "  </thead>\n",
       "  <tbody>\n",
       "    <tr>\n",
       "      <th>0</th>\n",
       "      <td>Who rode it best? Jesse Jackson mounts up to f...</td>\n",
       "      <td>0</td>\n",
       "    </tr>\n",
       "    <tr>\n",
       "      <th>1</th>\n",
       "      <td>According to a new study, eight percent of our...</td>\n",
       "      <td>1</td>\n",
       "    </tr>\n",
       "    <tr>\n",
       "      <th>2</th>\n",
       "      <td>What Happens If Trump LOSES The Election? What...</td>\n",
       "      <td>2</td>\n",
       "    </tr>\n",
       "    <tr>\n",
       "      <th>3</th>\n",
       "      <td>The president and Hillary Clinton share a “stu...</td>\n",
       "      <td>3</td>\n",
       "    </tr>\n",
       "    <tr>\n",
       "      <th>4</th>\n",
       "      <td>A 23 kiloton tower shot called BADGER, fired o...</td>\n",
       "      <td>4</td>\n",
       "    </tr>\n",
       "  </tbody>\n",
       "</table>\n",
       "</div>"
      ],
      "text/plain": [
       "                                                text id\n",
       "0  Who rode it best? Jesse Jackson mounts up to f...  0\n",
       "1  According to a new study, eight percent of our...  1\n",
       "2  What Happens If Trump LOSES The Election? What...  2\n",
       "3  The president and Hillary Clinton share a “stu...  3\n",
       "4  A 23 kiloton tower shot called BADGER, fired o...  4"
      ]
     },
     "execution_count": 14,
     "metadata": {},
     "output_type": "execute_result"
    }
   ],
   "source": [
    "text_train = text_train.reset_index(drop=True)\n",
    "text_train['id'] = 0\n",
    "for i in range(len(text_train)):\n",
    "    text_train.ix[i,'id'] = str(i)\n",
    "text_train.head()"
   ]
  },
  {
   "cell_type": "code",
   "execution_count": 15,
   "metadata": {
    "collapsed": false
   },
   "outputs": [],
   "source": [
    "\n",
    "blah = (text_test.to_dict(orient='records'))\n"
   ]
  },
  {
   "cell_type": "code",
   "execution_count": 16,
   "metadata": {
    "collapsed": false,
    "scrolled": true
   },
   "outputs": [],
   "source": [
    "# j = text_test.groupby(['id','text'])"
   ]
  },
  {
   "cell_type": "code",
   "execution_count": 17,
   "metadata": {
    "collapsed": false
   },
   "outputs": [
    {
     "name": "stderr",
     "output_type": "stream",
     "text": [
      "/Users/abhishekvasu/anaconda3/lib/python2.7/site-packages/bs4/__init__.py:181: UserWarning: No parser was explicitly specified, so I'm using the best available HTML parser for this system (\"html5lib\"). This usually isn't a problem, but if you run this code on another system, or in a different virtual environment, it may use a different parser and behave differently.\n",
      "\n",
      "The code that caused this warning is on line 162 of the file /Users/abhishekvasu/anaconda3/lib/python2.7/runpy.py. To get rid of this warning, change code that looks like this:\n",
      "\n",
      " BeautifulSoup([your markup])\n",
      "\n",
      "to this:\n",
      "\n",
      " BeautifulSoup([your markup], \"html5lib\")\n",
      "\n",
      "  markup_type=markup_type))\n"
     ]
    },
    {
     "name": "stdout",
     "output_type": "stream",
     "text": [
      "189040\n",
      "181669\n",
      "179246\n",
      "194105\n",
      "191927\n",
      "191897\n",
      "183621\n",
      "190987\n",
      "193234\n",
      "182725\n",
      "207059\n",
      "194356\n",
      "176916\n",
      "130\n"
     ]
    }
   ],
   "source": [
    "import httplib, urllib, base64\n",
    "from bs4 import BeautifulSoup\n",
    "import lxml\n",
    "import re\n",
    "import unicodedata\n",
    "import sys\n",
    "import time\n",
    "\n",
    "b = []\n",
    "count = 0\n",
    "detained_list_test = []\n",
    "all_the_test_data = []\n",
    "# body = {\n",
    "#   \"documents\": [\n",
    "#     {\"id\":\"1513\",\"text\": \"[ \\'This is the biggest story not being reported.\\\\nWhile the world teeters on the brink of World War 3, the media is reporting on Kim Kardashian.\\\\nMeanwhile the Russians are deploying the new Satan-2 missile (designation given by NATO).\\\\nEach Satan-2 missile has the power to devastate an area the size of Texas.\\\\nhttp://www.nbcnews.com/news/wo... \\\\nhttp://www.dailymail.co.uk/sci...\\']\"}]\n",
    "# }\n",
    "for i in range((len(text_test)/200)+1):\n",
    "    b = []\n",
    "    for j in range(i*200, (i+1)*200):\n",
    "        if j >= len(text_test):\n",
    "            break\n",
    "        headers = {\n",
    "            # Request headers\n",
    "            'Content-Type': 'application/json',\n",
    "            'Ocp-Apim-Subscription-Key': 'b1b17649c5cb443a81c82343165d0a27',\n",
    "        }\n",
    "\n",
    "        a = BeautifulSoup(str(text_test.ix[j,'text'])).get_text()\n",
    "        letters_only = re.sub(\"[^a-zA-Z]\", \" \", a)\n",
    "        letters_only = unicodedata.normalize('NFKD', letters_only).encode('ascii','ignore')\n",
    "        if letters_only.isspace():\n",
    "            detained_list_test.append(j)\n",
    "            continue\n",
    "        if sys.getsizeof(letters_only) > 4240:\n",
    "            letters_only = letters_only[:3239]\n",
    "\n",
    "        splitted_words = letters_only.split()\n",
    "        letters_only = \" \".join(splitted_words)\n",
    "        if len(letters_only) < 15:\n",
    "            detained_list_test.append(j)\n",
    "            continue\n",
    "    #     if j in [6,11,13,16,17,18,19,28]:\n",
    "    #         print sys.getsizeof(letters_only)\n",
    "\n",
    "        b.append({\"id\":str(text_test.ix[j,'id']), \"text\": letters_only})\n",
    "    body = {\"documents\": b}\n",
    "\n",
    "\n",
    "    count += 1\n",
    "    #     if count == 5:\n",
    "    #         break\n",
    "\n",
    "    params = urllib.urlencode({\n",
    "    })\n",
    "\n",
    "    try:\n",
    "        conn = httplib.HTTPSConnection('westus.api.cognitive.microsoft.com')\n",
    "        conn.request(\"POST\", \"/text/analytics/v2.0/keyPhrases?%s\" % params, str(body), headers)\n",
    "        response = conn.getresponse()\n",
    "        data = response.read()\n",
    "        print len(data)\n",
    "        all_the_test_data.append(data)\n",
    "        conn.close()\n",
    "        time.sleep(1)\n",
    "    except Exception as e:\n",
    "        print(\"[Errno {0}] {1}\".format(e.errno, e.strerror))\n",
    "# time.sleep(20)\n",
    "    "
   ]
  },
  {
   "cell_type": "code",
   "execution_count": 18,
   "metadata": {
    "collapsed": false
   },
   "outputs": [
    {
     "name": "stdout",
     "output_type": "stream",
     "text": [
      "180382\n",
      "174790\n",
      "198841\n",
      "191609\n",
      "189153\n",
      "184962\n",
      "203975\n",
      "183522\n",
      "203093\n",
      "194743\n",
      "191018\n",
      "183336\n",
      "185780\n",
      "195919\n",
      "187901\n",
      "188205\n",
      "193703\n",
      "191215\n",
      "188234\n",
      "200040\n",
      "200613\n",
      "197589\n",
      "177433\n",
      "200675\n",
      "180199\n",
      "172576\n",
      "181863\n",
      "182918\n",
      "190046\n",
      "199077\n",
      "183377\n",
      "180349\n",
      "183235\n",
      "199343\n",
      "182770\n",
      "193090\n",
      "200093\n",
      "187865\n",
      "193566\n",
      "191830\n",
      "185198\n",
      "185237\n",
      "171493\n",
      "194447\n",
      "191675\n",
      "193329\n",
      "179406\n",
      "187821\n",
      "195893\n",
      "199926\n",
      "201577\n",
      "188741\n"
     ]
    }
   ],
   "source": [
    "import httplib, urllib, base64\n",
    "from bs4 import BeautifulSoup\n",
    "import lxml\n",
    "import re\n",
    "import unicodedata\n",
    "import sys\n",
    "import time\n",
    "\n",
    "b = []\n",
    "count = 0\n",
    "detained_list_train = []\n",
    "all_the_train_data = []\n",
    "# body = {\n",
    "#   \"documents\": [\n",
    "#     {\"id\":\"1513\",\"text\": \"[ \\'This is the biggest story not being reported.\\\\nWhile the world teeters on the brink of World War 3, the media is reporting on Kim Kardashian.\\\\nMeanwhile the Russians are deploying the new Satan-2 missile (designation given by NATO).\\\\nEach Satan-2 missile has the power to devastate an area the size of Texas.\\\\nhttp://www.nbcnews.com/news/wo... \\\\nhttp://www.dailymail.co.uk/sci...\\']\"}]\n",
    "# }\n",
    "for i in range((len(text_train)/200)+1):\n",
    "    b = []\n",
    "    for j in range(i*200, (i+1)*200):\n",
    "        if j >= len(text_train):\n",
    "            break\n",
    "        headers = {\n",
    "            # Request headers\n",
    "            'Content-Type': 'application/json',\n",
    "            'Ocp-Apim-Subscription-Key': 'b1b17649c5cb443a81c82343165d0a27',\n",
    "        }\n",
    "\n",
    "        a = BeautifulSoup(str(text_train.ix[j,'text'])).get_text()\n",
    "        letters_only = re.sub(\"[^a-zA-Z]\", \" \", a)\n",
    "        letters_only = unicodedata.normalize('NFKD', letters_only).encode('ascii','ignore')\n",
    "        if letters_only.isspace():\n",
    "            detained_list_train.append(j)\n",
    "            continue\n",
    "        if sys.getsizeof(letters_only) > 4240:\n",
    "            letters_only = letters_only[:3239]\n",
    "\n",
    "        splitted_words = letters_only.split()\n",
    "        letters_only = \" \".join(splitted_words)\n",
    "        if len(letters_only) < 15:\n",
    "            detained_list_train.append(j)\n",
    "            continue\n",
    "    #     if j in [6,11,13,16,17,18,19,28]:\n",
    "    #         print sys.getsizeof(letters_only)\n",
    "\n",
    "        b.append({\"id\":str(text_train.ix[j,'id']), \"text\": letters_only})\n",
    "    body = {\"documents\": b}\n",
    "\n",
    "\n",
    "    count += 1\n",
    "    #     if count == 5:\n",
    "    #         break\n",
    "\n",
    "    params = urllib.urlencode({\n",
    "    })\n",
    "\n",
    "    try:\n",
    "        conn = httplib.HTTPSConnection('westus.api.cognitive.microsoft.com')\n",
    "        conn.request(\"POST\", \"/text/analytics/v2.0/keyPhrases?%s\" % params, str(body), headers)\n",
    "        response = conn.getresponse()\n",
    "        data = response.read()\n",
    "        print len(data)\n",
    "        all_the_train_data.append(data)\n",
    "        conn.close()\n",
    "        time.sleep(1)\n",
    "    except Exception as e:\n",
    "        print(\"[Errno {0}] {1}\".format(e.errno, e.strerror))"
   ]
  },
  {
   "cell_type": "code",
   "execution_count": 19,
   "metadata": {
    "collapsed": false
   },
   "outputs": [
    {
     "name": "stdout",
     "output_type": "stream",
     "text": [
      "14\n",
      "52\n",
      "262\n",
      "71\n"
     ]
    }
   ],
   "source": [
    "print len(all_the_test_data)\n",
    "print len(all_the_train_data)\n",
    "print len(detained_list_train)\n",
    "print len(detained_list_test)"
   ]
  },
  {
   "cell_type": "code",
   "execution_count": 20,
   "metadata": {
    "collapsed": false
   },
   "outputs": [
    {
     "name": "stdout",
     "output_type": "stream",
     "text": [
      "[u'world teeters', u'brink of World War', u'size of Texas http www nbcnews com news wo http www dailymail', u'new Satan missile designation', u'media', u'NATO', u'Russians', u'Kim Kardashian', u'power', u'uk sci', u'area', u'biggest story']\n",
      "197\n"
     ]
    }
   ],
   "source": [
    "# {'documents': [{'text': \"[ 'This is the biggest story not being reported.\\\\nWhile the world teeters on the brink of World War 3, the media is reporting on Kim Kardashian.\\\\nMeanwhile the Russians are deploying the new Satan-2 missile (designation given by NATO).\\\\nEach Satan-2 missile has the power to devastate an area the size of Texas.\\\\nhttp://www.nbcnews.com/news/wo... \\\\nhttp://www.dailymail.co.uk/sci...']\", 'id': '1513'}]}\n",
    "\n",
    "# {'documents': ['{\"id\":\"1513\",\"text\": \"[ \\'This is the biggest story not being reported.\\\\nWhile the world teeters on the brink of World War 3, the media is reporting on Kim Kardashian.\\\\nMeanwhile the Russians are deploying the new Satan-2 missile (designation given by NATO).\\\\nEach Satan-2 missile has the power to devastate an area the size of Texas.\\\\nhttp://www.nbcnews.com/news/wo... \\\\nhttp://www.dailymail.co.uk/sci...\\']\"}']}\n",
    "\n",
    "# [6,11,13,16,17,18,19,28]\n",
    "import json\n",
    "import numpy as np\n",
    "# print type(all_the_test_data[0])\n",
    "abcd_test = []\n",
    "for i in range(len(all_the_test_data)):\n",
    "    abcd_test.append(json.loads(all_the_test_data[i]))\n",
    "    \n",
    "print (abcd_test[0]['documents'][0]['keyPhrases'])\n",
    "print len(abcd_test[0]['documents'])"
   ]
  },
  {
   "cell_type": "code",
   "execution_count": 21,
   "metadata": {
    "collapsed": false
   },
   "outputs": [
    {
     "name": "stdout",
     "output_type": "stream",
     "text": [
      "2529\n"
     ]
    }
   ],
   "source": [
    "map_test = {}\n",
    "for i in range(len(abcd_test)-1):\n",
    "    for j in range(len(abcd_test[i]['documents'])):\n",
    "#         print i\n",
    "        map_test[abcd_test[i]['documents'][j]['id']] = abcd_test[i]['documents'][j]['keyPhrases']\n",
    "print len(map_test)"
   ]
  },
  {
   "cell_type": "code",
   "execution_count": 22,
   "metadata": {
    "collapsed": true
   },
   "outputs": [],
   "source": [
    "abcd_train = []\n",
    "for i in range(len(all_the_train_data)):\n",
    "    abcd_train.append(json.loads(all_the_train_data[i]))"
   ]
  },
  {
   "cell_type": "code",
   "execution_count": 23,
   "metadata": {
    "collapsed": false
   },
   "outputs": [],
   "source": [
    "map_train = {}\n",
    "for i in range(len(abcd_train)):\n",
    "    for j in range(len(abcd_train[i]['documents'])):\n",
    "        map_train[abcd_train[i]['documents'][j]['id']] = abcd_train[i]['documents'][j]['keyPhrases']"
   ]
  },
  {
   "cell_type": "code",
   "execution_count": 24,
   "metadata": {
    "collapsed": false
   },
   "outputs": [
    {
     "name": "stdout",
     "output_type": "stream",
     "text": [
      "10137\n"
     ]
    }
   ],
   "source": [
    "print len(map_train)"
   ]
  },
  {
   "cell_type": "code",
   "execution_count": 25,
   "metadata": {
    "collapsed": false
   },
   "outputs": [],
   "source": [
    "X_train = X_train.reset_index(drop=True)\n",
    "# X_train.head()\n",
    "X_test = X_test.reset_index(drop=True)\n",
    "# X_test.head()\n",
    "y_train = y_train.reset_index(drop=True)\n",
    "y_test = y_test.reset_index(drop=True)"
   ]
  },
  {
   "cell_type": "code",
   "execution_count": 26,
   "metadata": {
    "collapsed": false
   },
   "outputs": [
    {
     "data": {
      "text/plain": [
       "52"
      ]
     },
     "execution_count": 26,
     "metadata": {},
     "output_type": "execute_result"
    }
   ],
   "source": [
    "len(detained_list_train)\n",
    "len(X_train) - 253\n",
    "len(all_the_train_data)"
   ]
  },
  {
   "cell_type": "code",
   "execution_count": 27,
   "metadata": {
    "collapsed": false
   },
   "outputs": [
    {
     "name": "stderr",
     "output_type": "stream",
     "text": [
      "Hey! Clarifai Python Client v2.0.28 upgrade available.\n"
     ]
    },
    {
     "name": "stdout",
     "output_type": "stream",
     "text": [
      "2931\n",
      "1000\n",
      "1500\n"
     ]
    }
   ],
   "source": [
    "from clarifai import rest\n",
    "from clarifai.rest import ClarifaiApp\n",
    "from clarifai.rest import Image as ClImage\n",
    "app = ClarifaiApp(\"YSiXrmkG3eH5YX-T0_IgOP2EiQCjUSSU3-Zi8-Ud\", \"7ZMENkzvW96jYqAw1cskml2tCYsnxMXWjcGsxTso\")\n",
    "model = app.models.get('general-v1.3')\n",
    "count = 0\n",
    "clarifai_train = {}\n",
    "blacklist = X_train[pd.isnull(X_train['main_img_url'])]\n",
    "print len(blacklist)\n",
    "for i in range(2000):\n",
    "    count += 1\n",
    "    if i in detained_list_train:\n",
    "        continue\n",
    "    else:\n",
    "        blah = []\n",
    "        if i in blacklist:\n",
    "            clarifai_train[i] = [\"NA\"]\n",
    "        else:\n",
    "            url = X_train.ix[i,'main_img_url']\n",
    "            try:\n",
    "                image = ClImage(url)\n",
    "                clarifai_output = model.predict([image])\n",
    "            except:\n",
    "                clarifai_train[i] = [\"NA\"]\n",
    "                continue\n",
    "            for k in range(len(clarifai_output['outputs'][0]['data']['concepts'])):\n",
    "                blah.append(clarifai_output['outputs'][0]['data']['concepts'][k]['name'])\n",
    "            clarifai_train[i] = blah\n",
    "#             except:\n",
    "#                 clarifai_train[i] = \"NA\"\n",
    "    if count%500 ==0:\n",
    "        print count\n",
    "# print clarifai_train"
   ]
  },
  {
   "cell_type": "code",
   "execution_count": 28,
   "metadata": {
    "collapsed": false
   },
   "outputs": [
    {
     "data": {
      "text/plain": [
       "1948"
      ]
     },
     "execution_count": 28,
     "metadata": {},
     "output_type": "execute_result"
    }
   ],
   "source": [
    "len(clarifai_train)"
   ]
  },
  {
   "cell_type": "code",
   "execution_count": 29,
   "metadata": {
    "collapsed": false
   },
   "outputs": [
    {
     "data": {
      "text/html": [
       "<div>\n",
       "<table border=\"1\" class=\"dataframe\">\n",
       "  <thead>\n",
       "    <tr style=\"text-align: right;\">\n",
       "      <th></th>\n",
       "      <th>text</th>\n",
       "      <th>id</th>\n",
       "    </tr>\n",
       "  </thead>\n",
       "  <tbody>\n",
       "    <tr>\n",
       "      <th>0</th>\n",
       "      <td>Who rode it best? Jesse Jackson mounts up to f...</td>\n",
       "      <td>0</td>\n",
       "    </tr>\n",
       "    <tr>\n",
       "      <th>1</th>\n",
       "      <td>According to a new study, eight percent of our...</td>\n",
       "      <td>1</td>\n",
       "    </tr>\n",
       "    <tr>\n",
       "      <th>2</th>\n",
       "      <td>What Happens If Trump LOSES The Election? What...</td>\n",
       "      <td>2</td>\n",
       "    </tr>\n",
       "    <tr>\n",
       "      <th>3</th>\n",
       "      <td>The president and Hillary Clinton share a “stu...</td>\n",
       "      <td>3</td>\n",
       "    </tr>\n",
       "    <tr>\n",
       "      <th>4</th>\n",
       "      <td>A 23 kiloton tower shot called BADGER, fired o...</td>\n",
       "      <td>4</td>\n",
       "    </tr>\n",
       "  </tbody>\n",
       "</table>\n",
       "</div>"
      ],
      "text/plain": [
       "                                                text id\n",
       "0  Who rode it best? Jesse Jackson mounts up to f...  0\n",
       "1  According to a new study, eight percent of our...  1\n",
       "2  What Happens If Trump LOSES The Election? What...  2\n",
       "3  The president and Hillary Clinton share a “stu...  3\n",
       "4  A 23 kiloton tower shot called BADGER, fired o...  4"
      ]
     },
     "execution_count": 29,
     "metadata": {},
     "output_type": "execute_result"
    }
   ],
   "source": [
    "text_train.head()"
   ]
  },
  {
   "cell_type": "code",
   "execution_count": 30,
   "metadata": {
    "collapsed": false
   },
   "outputs": [
    {
     "name": "stderr",
     "output_type": "stream",
     "text": [
      "Hey! Clarifai Python Client v2.0.28 upgrade available.\n"
     ]
    },
    {
     "name": "stdout",
     "output_type": "stream",
     "text": [
      "709\n"
     ]
    }
   ],
   "source": [
    "from clarifai import rest\n",
    "from clarifai.rest import ClarifaiApp\n",
    "from clarifai.rest import Image as ClImage\n",
    "app = ClarifaiApp(\"YSiXrmkG3eH5YX-T0_IgOP2EiQCjUSSU3-Zi8-Ud\", \"7ZMENkzvW96jYqAw1cskml2tCYsnxMXWjcGsxTso\")\n",
    "model = app.models.get('general-v1.3')\n",
    "count = 0\n",
    "clarifai_test = {}\n",
    "blacklist = X_test[pd.isnull(X_test['main_img_url'])]\n",
    "print len(blacklist)\n",
    "for i in range(200): #len(X_test)):\n",
    "    count += 1\n",
    "    if i in detained_list_test:\n",
    "        continue\n",
    "    else:\n",
    "        blah = []\n",
    "        if i in blacklist:\n",
    "            clarifai_test[i] = [\"NA\"]\n",
    "        else:\n",
    "            url = X_test.ix[i,'main_img_url']\n",
    "            try:\n",
    "                image = ClImage(url)\n",
    "                clarifai_output = model.predict([image])\n",
    "                for k in range(len(clarifai_output['outputs'][0]['data']['concepts'])):\n",
    "                    blah.append(clarifai_output['outputs'][0]['data']['concepts'][k]['name'])\n",
    "                clarifai_test[i] = blah\n",
    "            except:\n",
    "                clarifai_test[i] = \"NA\"\n",
    "    if count%500 ==0:\n",
    "        print count"
   ]
  },
  {
   "cell_type": "code",
   "execution_count": 33,
   "metadata": {
    "collapsed": false
   },
   "outputs": [
    {
     "name": "stdout",
     "output_type": "stream",
     "text": [
      "[u'woman', u'love', u'nature', u'bone', u'bright', u'health', u'pretty', u'beautiful', u'sexy', u'flower', u'elegant', u'no person', u'skin', u'romance', u'summer', u'nude', u'isolated', u'fashion', u'glamour', u'shining']\n"
     ]
    }
   ],
   "source": [
    "print clarifai_test[1]"
   ]
  },
  {
   "cell_type": "code",
   "execution_count": 109,
   "metadata": {
    "collapsed": false
   },
   "outputs": [
    {
     "name": "stdout",
     "output_type": "stream",
     "text": [
      "197\n"
     ]
    }
   ],
   "source": [
    "keys = []\n",
    "vals = []\n",
    "for key,value in clarifai_train.iteritems():\n",
    "    keys.append(key)\n",
    "    vals.append(map_train[str(key)])\n",
    "\n",
    "temp_x_train = dict(zip(keys, vals))\n",
    "\n",
    "keys_ = []\n",
    "vals_ = []\n",
    "for key,value in clarifai_test.iteritems():\n",
    "    keys_.append(key)\n",
    "    vals_.append(map_test[str(key)])\n",
    "temp_x_test = dict(zip(keys_, vals_))\n",
    "\n",
    "print len(temp_test)"
   ]
  },
  {
   "cell_type": "code",
   "execution_count": 128,
   "metadata": {
    "collapsed": false
   },
   "outputs": [],
   "source": [
    "from nltk.corpus import wordnet\n",
    "import numpy as np\n",
    "count = 0\n",
    "asdf = []\n",
    "maxes = []\n",
    "the_means = []\n",
    "the_std = []\n",
    "for i,_ in clarifai_train.iteritems():\n",
    "    list1 = _\n",
    "    list2 = temp_x_train[i]\n",
    "    asdf = []\n",
    "    for word1 in list1[0]:\n",
    "        for word2 in list2:\n",
    "            wordFromList1 = wordnet.synsets(str(word1))\n",
    "            wordFromList2 = wordnet.synsets(str(word2))\n",
    "            if wordFromList1 and wordFromList2: \n",
    "                s = wordFromList1[0].wup_similarity(wordFromList2[0])\n",
    "                asdf.append(s)\n",
    "            asdf = [0 if v is None else v for v in asdf]\n",
    "    count += 1\n",
    "    try:\n",
    "        maxes.append(max(asdf))\n",
    "    except:\n",
    "        maxes.append(0)\n",
    "#     if count == 200:\n",
    "#         break\n",
    "#     the_means.append((np.array(asdf)))\n",
    "#     the_std.append(np.std(np.array(asdf)))\n",
    "    \n",
    "        \n",
    "        \n",
    "# print str(clarifai_train[0][0])"
   ]
  },
  {
   "cell_type": "code",
   "execution_count": 129,
   "metadata": {
    "collapsed": false
   },
   "outputs": [
    {
     "name": "stdout",
     "output_type": "stream",
     "text": [
      "1948\n"
     ]
    }
   ],
   "source": [
    "print len(maxes)"
   ]
  },
  {
   "cell_type": "code",
   "execution_count": 140,
   "metadata": {
    "collapsed": false
   },
   "outputs": [],
   "source": [
    "text_train.head()\n",
    "count_train = []\n",
    "train_label = []\n",
    "for key,val in clarifai_train.iteritems():\n",
    "    count_train.append(X_train.ix[int(key),'total_count'])\n",
    "    train_label.append(y_train.ix[int(key), 'output_label'])"
   ]
  },
  {
   "cell_type": "code",
   "execution_count": 142,
   "metadata": {
    "collapsed": false
   },
   "outputs": [
    {
     "name": "stdout",
     "output_type": "stream",
     "text": [
      "1948\n"
     ]
    }
   ],
   "source": [
    "print len(train_label)"
   ]
  },
  {
   "cell_type": "code",
   "execution_count": null,
   "metadata": {
    "collapsed": false
   },
   "outputs": [],
   "source": []
  },
  {
   "cell_type": "code",
   "execution_count": 143,
   "metadata": {
    "collapsed": true
   },
   "outputs": [],
   "source": [
    "from nltk.corpus import wordnet\n",
    "import numpy as np\n",
    "count = 0\n",
    "asdf = []\n",
    "maxes_test = []\n",
    "for i,_ in clarifai_test.iteritems():\n",
    "    list1 = _\n",
    "    list2 = temp_x_test[i]\n",
    "    asdf = []\n",
    "    for word1 in list1[0]:\n",
    "        for word2 in list2:\n",
    "            wordFromList1 = wordnet.synsets(str(word1))\n",
    "            wordFromList2 = wordnet.synsets(str(word2))\n",
    "            if wordFromList1 and wordFromList2: \n",
    "                s = wordFromList1[0].wup_similarity(wordFromList2[0])\n",
    "                asdf.append(s)\n",
    "            asdf = [0 if v is None else v for v in asdf]\n",
    "    count += 1\n",
    "    try:\n",
    "        maxes_test.append(max(asdf))\n",
    "    except:\n",
    "        maxes_test.append(0)"
   ]
  },
  {
   "cell_type": "code",
   "execution_count": 144,
   "metadata": {
    "collapsed": false
   },
   "outputs": [
    {
     "name": "stdout",
     "output_type": "stream",
     "text": [
      "197\n"
     ]
    }
   ],
   "source": [
    "print len(maxes_test)"
   ]
  },
  {
   "cell_type": "code",
   "execution_count": 145,
   "metadata": {
    "collapsed": true
   },
   "outputs": [],
   "source": [
    "count_test = []\n",
    "test_label = []\n",
    "for key,val in clarifai_test.iteritems():\n",
    "    count_test.append(X_test.ix[int(key),'total_count'])\n",
    "    test_label.append(y_test.ix[int(key), 'output_label'])"
   ]
  },
  {
   "cell_type": "code",
   "execution_count": 147,
   "metadata": {
    "collapsed": false
   },
   "outputs": [
    {
     "name": "stdout",
     "output_type": "stream",
     "text": [
      "197\n",
      "197\n"
     ]
    }
   ],
   "source": [
    "print len(count_test)\n",
    "print len(test_label)"
   ]
  },
  {
   "cell_type": "code",
   "execution_count": 182,
   "metadata": {
    "collapsed": false
   },
   "outputs": [],
   "source": [
    "from sklearn import svm\n",
    "\n",
    "train_input = np.array([count_train, maxes])\n",
    "test_input = np.array([count_test, maxes_test])\n",
    "\n",
    "clf = svm.SVC(decision_function_shape='ovo', C=0.5, gamma = 0.5,kernel ='rbf')\n",
    "clf.fit(train_input.T, train_label).score\n",
    "clf.fit(train_input.T, train_label).score(train_input.T, train_label)\n",
    "final_output = clf.predict(test_input.T)"
   ]
  },
  {
   "cell_type": "code",
   "execution_count": 183,
   "metadata": {
    "collapsed": false
   },
   "outputs": [
    {
     "data": {
      "text/plain": [
       "0"
      ]
     },
     "execution_count": 183,
     "metadata": {},
     "output_type": "execute_result"
    }
   ],
   "source": [
    "max(final_output)"
   ]
  },
  {
   "cell_type": "code",
   "execution_count": 184,
   "metadata": {
    "collapsed": false
   },
   "outputs": [
    {
     "ename": "SyntaxError",
     "evalue": "invalid syntax (<ipython-input-184-c810f2706e11>, line 4)",
     "output_type": "error",
     "traceback": [
      "\u001b[0;36m  File \u001b[0;32m\"<ipython-input-184-c810f2706e11>\"\u001b[0;36m, line \u001b[0;32m4\u001b[0m\n\u001b[0;31m    if fina\u001b[0m\n\u001b[0m           ^\u001b[0m\n\u001b[0;31mSyntaxError\u001b[0m\u001b[0;31m:\u001b[0m invalid syntax\n"
     ]
    }
   ],
   "source": [
    "# final_output\n",
    "# f_output = []\n",
    "# for i in range(len(final_output)):\n",
    "#     if fina"
   ]
  },
  {
   "cell_type": "code",
   "execution_count": 170,
   "metadata": {
    "collapsed": false
   },
   "outputs": [
    {
     "data": {
      "text/plain": [
       "[1,\n",
       " 1,\n",
       " 1,\n",
       " 1,\n",
       " 1,\n",
       " 0,\n",
       " 0,\n",
       " 1,\n",
       " 1,\n",
       " 1,\n",
       " 0,\n",
       " 1,\n",
       " 1,\n",
       " 1,\n",
       " 1,\n",
       " 0,\n",
       " 1,\n",
       " 0,\n",
       " 1,\n",
       " 0,\n",
       " 1,\n",
       " 1,\n",
       " 1,\n",
       " 1,\n",
       " 1,\n",
       " 1,\n",
       " 1,\n",
       " 1,\n",
       " 1,\n",
       " 1,\n",
       " 1,\n",
       " 1,\n",
       " 1,\n",
       " 1,\n",
       " 1,\n",
       " 1,\n",
       " 1,\n",
       " 1,\n",
       " 0,\n",
       " 0,\n",
       " 1,\n",
       " 0,\n",
       " 0,\n",
       " 1,\n",
       " 1,\n",
       " 1,\n",
       " 0,\n",
       " 1,\n",
       " 1,\n",
       " 1,\n",
       " 0,\n",
       " 1,\n",
       " 0,\n",
       " 0,\n",
       " 1,\n",
       " 1,\n",
       " 1,\n",
       " 1,\n",
       " 1,\n",
       " 1,\n",
       " 1,\n",
       " 0,\n",
       " 1,\n",
       " 0,\n",
       " 1,\n",
       " 1,\n",
       " 1,\n",
       " 1,\n",
       " 1,\n",
       " 0,\n",
       " 1,\n",
       " 1,\n",
       " 1,\n",
       " 1,\n",
       " 0,\n",
       " 1,\n",
       " 1,\n",
       " 1,\n",
       " 1,\n",
       " 1,\n",
       " 1,\n",
       " 1,\n",
       " 1,\n",
       " 1,\n",
       " 1,\n",
       " 0,\n",
       " 1,\n",
       " 0,\n",
       " 1,\n",
       " 1,\n",
       " 1,\n",
       " 0,\n",
       " 1,\n",
       " 1,\n",
       " 1,\n",
       " 0,\n",
       " 1,\n",
       " 1,\n",
       " 1,\n",
       " 1,\n",
       " 0,\n",
       " 1,\n",
       " 1,\n",
       " 1,\n",
       " 1,\n",
       " 1,\n",
       " 1,\n",
       " 1,\n",
       " 1,\n",
       " 0,\n",
       " 1,\n",
       " 1,\n",
       " 0,\n",
       " 1,\n",
       " 1,\n",
       " 1,\n",
       " 1,\n",
       " 1,\n",
       " 1,\n",
       " 1,\n",
       " 1,\n",
       " 1,\n",
       " 1,\n",
       " 1,\n",
       " 1,\n",
       " 1,\n",
       " 1,\n",
       " 1,\n",
       " 0,\n",
       " 1,\n",
       " 0,\n",
       " 1,\n",
       " 1,\n",
       " 1,\n",
       " 0,\n",
       " 0,\n",
       " 1,\n",
       " 1,\n",
       " 1,\n",
       " 1,\n",
       " 1,\n",
       " 1,\n",
       " 1,\n",
       " 1,\n",
       " 1,\n",
       " 0,\n",
       " 0,\n",
       " 0,\n",
       " 1,\n",
       " 1,\n",
       " 1,\n",
       " 1,\n",
       " 0,\n",
       " 0,\n",
       " 1,\n",
       " 1,\n",
       " 1,\n",
       " 1,\n",
       " 1,\n",
       " 0,\n",
       " 1,\n",
       " 0,\n",
       " 1,\n",
       " 1,\n",
       " 1,\n",
       " 0,\n",
       " 1,\n",
       " 1,\n",
       " 1,\n",
       " 1,\n",
       " 1,\n",
       " 0,\n",
       " 0,\n",
       " 0,\n",
       " 0,\n",
       " 1,\n",
       " 1,\n",
       " 1,\n",
       " 0,\n",
       " 1,\n",
       " 0,\n",
       " 1,\n",
       " 1,\n",
       " 0,\n",
       " 1,\n",
       " 0,\n",
       " 1,\n",
       " 1,\n",
       " 1,\n",
       " 0,\n",
       " 1,\n",
       " 1,\n",
       " 0,\n",
       " 1,\n",
       " 1,\n",
       " 1,\n",
       " 1]"
      ]
     },
     "execution_count": 170,
     "metadata": {},
     "output_type": "execute_result"
    }
   ],
   "source": [
    "f_output"
   ]
  },
  {
   "cell_type": "code",
   "execution_count": 185,
   "metadata": {
    "collapsed": false
   },
   "outputs": [
    {
     "data": {
      "text/plain": [
       "186"
      ]
     },
     "execution_count": 185,
     "metadata": {},
     "output_type": "execute_result"
    }
   ],
   "source": [
    "correct = 0\n",
    "for i in range(len(f_output)):\n",
    "    if final_output[i] == test_label[i]:\n",
    "        correct += 1\n",
    "        \n",
    "correct "
   ]
  },
  {
   "cell_type": "code",
   "execution_count": 186,
   "metadata": {
    "collapsed": false
   },
   "outputs": [
    {
     "name": "stdout",
     "output_type": "stream",
     "text": [
      "[0, 0, 0, 0, 0, 0, 0, 0, 0, 2, 0, 0, 0, 0, 0, 0, 0, 0, 0, 0, 0, 0, 0, 0, 0, 0, 0, 0, 0, 0, 0, 0, 0, 0, 0, 0, 0, 0, 0, 0, 0, 0, 1, 0, 0, 0, 0, 0, 0, 0, 0, 0, 0, 0, 0, 0, 0, 0, 0, 0, 0, 0, 0, 0, 2, 0, 0, 0, 0, 0, 0, 0, 0, 0, 0, 0, 0, 0, 0, 0, 0, 0, 0, 0, 0, 0, 0, 0, 0, 0, 0, 0, 0, 0, 0, 0, 0, 0, 0, 0, 0, 2, 0, 0, 0, 0, 0, 0, 0, 0, 1, 0, 0, 0, 0, 0, 0, 0, 0, 0, 0, 0, 0, 0, 0, 0, 0, 0, 0, 0, 0, 0, 0, 0, 0, 0, 0, 0, 0, 0, 0, 0, 0, 0, 0, 2, 0, 0, 0, 0, 0, 0, 0, 0, 0, 0, 0, 0, 0, 2, 0, 0, 0, 0, 0, 2, 0, 0, 0, 0, 0, 0, 0, 0, 1, 0, 0, 0, 0, 0, 2, 0, 0, 0, 0, 0, 0, 0, 0, 2, 0, 0, 0, 0, 0, 0, 0]\n"
     ]
    }
   ],
   "source": [
    "print test_label"
   ]
  },
  {
   "cell_type": "code",
   "execution_count": null,
   "metadata": {
    "collapsed": true
   },
   "outputs": [],
   "source": []
  }
 ],
 "metadata": {
  "anaconda-cloud": {},
  "kernelspec": {
   "display_name": "Python [conda root]",
   "language": "python",
   "name": "conda-root-py"
  },
  "language_info": {
   "codemirror_mode": {
    "name": "ipython",
    "version": 2
   },
   "file_extension": ".py",
   "mimetype": "text/x-python",
   "name": "python",
   "nbconvert_exporter": "python",
   "pygments_lexer": "ipython2",
   "version": "2.7.10"
  }
 },
 "nbformat": 4,
 "nbformat_minor": 2
}
